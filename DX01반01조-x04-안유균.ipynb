{
 "cells": [
  {
   "cell_type": "markdown",
   "metadata": {
    "id": "BFhIXgdYoYGp"
   },
   "source": [
    "<center><img src='https://raw.githubusercontent.com/Jangrae/img/master/title.png' width=500/></center>"
   ]
  },
  {
   "cell_type": "markdown",
   "metadata": {
    "id": "d6jVPeiR2MK_"
   },
   "source": [
    "<center><img src='https://raw.githubusercontent.com/Jangrae/img/master/practice3.png' width=300/></center>"
   ]
  },
  {
   "cell_type": "markdown",
   "metadata": {
    "id": "ZogNxmpZgBMp"
   },
   "source": [
    "# 소매점 판매 현황"
   ]
  },
  {
   "cell_type": "markdown",
   "metadata": {
    "id": "0IUReT56gBMq"
   },
   "source": [
    "<img src='https://raw.githubusercontent.com/Jangrae/img/master/retail.png' width=\"650\" align=\"left\">"
   ]
  },
  {
   "cell_type": "markdown",
   "metadata": {
    "id": "qb1iLyXwGlnw"
   },
   "source": [
    "## 1.환경 설정\n",
    "\n",
    "- 데이터 탐색과 전처리를 하기 전 라이브러리와 파일을 읽어옵니다.\n",
    "- 시각화에 한글이 포함된 경우 이에 대한 설정을 진행합니다."
   ]
  },
  {
   "cell_type": "markdown",
   "metadata": {
    "id": "4Xz2TqMRgBMr"
   },
   "source": [
    "**1) 한글 설정**\n",
    "\n",
    "- Jupyter Notebook 시각화에 한글이 표시되게 설정합니다."
   ]
  },
  {
   "cell_type": "code",
   "execution_count": 1,
   "metadata": {
    "id": "CjQJWPwmgBMr"
   },
   "outputs": [],
   "source": [
    "# 라이브러리 불러오기\n",
    "import matplotlib \n",
    "import matplotlib.pyplot as plt\n",
    "\n",
    "# 폰트설정\n",
    "matplotlib.font_manager._rebuild()\n",
    "plt.rc('font', family='Malgun Gothic')\n",
    "plt.rcParams['axes.unicode_minus'] = False"
   ]
  },
  {
   "cell_type": "markdown",
   "metadata": {
    "id": "0uNXxebRGrd8"
   },
   "source": [
    "**2) 라이브러리 불러오기**\n",
    "\n",
    "- 사용할 라이브러리를 불러옵니다."
   ]
  },
  {
   "cell_type": "code",
   "execution_count": 2,
   "metadata": {
    "id": "zFm_DPTaUdqQ"
   },
   "outputs": [],
   "source": [
    "# 라이브러리 불러오기\n",
    "import numpy as np\n",
    "import pandas as pd\n",
    "import matplotlib.pyplot as plt\n",
    "\n",
    "%config InlineBackend.figure_format = 'retina'"
   ]
  },
  {
   "cell_type": "markdown",
   "metadata": {
    "id": "PcLUjkq0wxpF"
   },
   "source": [
    "**3) 데이터 읽어오기**\n",
    "\n",
    "- 다음 경로의 파일을 읽어와 customers, products, orders 데이터프레임을 만듭니다.\n",
    "- 파일 경로1: 'https://raw.githubusercontent.com/Jangrae/csv/master/customers.csv'    \n",
    "- 파일 경로2: 'https://raw.githubusercontent.com/Jangrae/csv/master/products.csv'\n",
    "- 파일 경로3: 'https://raw.githubusercontent.com/Jangrae/csv/master/orders.csv'\n",
    "- 단축 경로1: 'https://bit.ly/CustomersFile'    \n",
    "- 단축 경로2: 'https://bit.ly/ProductsFile'  \n",
    "- 단축 경로3: 'https://bit.ly/OrdersFile'  "
   ]
  },
  {
   "cell_type": "code",
   "execution_count": 10,
   "metadata": {
    "id": "91c9vKQ0E1A4"
   },
   "outputs": [
    {
     "data": {
      "text/html": [
       "<div>\n",
       "<style scoped>\n",
       "    .dataframe tbody tr th:only-of-type {\n",
       "        vertical-align: middle;\n",
       "    }\n",
       "\n",
       "    .dataframe tbody tr th {\n",
       "        vertical-align: top;\n",
       "    }\n",
       "\n",
       "    .dataframe thead th {\n",
       "        text-align: right;\n",
       "    }\n",
       "</style>\n",
       "<table border=\"1\" class=\"dataframe\">\n",
       "  <thead>\n",
       "    <tr style=\"text-align: right;\">\n",
       "      <th></th>\n",
       "      <th>CustomerID</th>\n",
       "      <th>RegisterDate</th>\n",
       "      <th>Address</th>\n",
       "      <th>Gender</th>\n",
       "      <th>BirthYear</th>\n",
       "      <th>Addr1</th>\n",
       "      <th>Addr2</th>\n",
       "    </tr>\n",
       "  </thead>\n",
       "  <tbody>\n",
       "    <tr>\n",
       "      <th>0</th>\n",
       "      <td>c017487</td>\n",
       "      <td>2002-07-31</td>\n",
       "      <td>경기 성남시 중원구 둔촌대로190번길</td>\n",
       "      <td>F</td>\n",
       "      <td>1968</td>\n",
       "      <td>경기도</td>\n",
       "      <td>성남시</td>\n",
       "    </tr>\n",
       "    <tr>\n",
       "      <th>1</th>\n",
       "      <td>c017503</td>\n",
       "      <td>2002-07-31</td>\n",
       "      <td>서울 마포구 새터산12길</td>\n",
       "      <td>F</td>\n",
       "      <td>1971</td>\n",
       "      <td>서울특별시</td>\n",
       "      <td>마포구</td>\n",
       "    </tr>\n",
       "    <tr>\n",
       "      <th>2</th>\n",
       "      <td>c017517</td>\n",
       "      <td>2002-07-31</td>\n",
       "      <td>경기도 남양주시 와부읍 덕소로</td>\n",
       "      <td>M</td>\n",
       "      <td>1967</td>\n",
       "      <td>경기도</td>\n",
       "      <td>남양주시</td>\n",
       "    </tr>\n",
       "    <tr>\n",
       "      <th>3</th>\n",
       "      <td>c017522</td>\n",
       "      <td>2002-07-31</td>\n",
       "      <td>강원도 원주시 단구로</td>\n",
       "      <td>F</td>\n",
       "      <td>1965</td>\n",
       "      <td>강원도</td>\n",
       "      <td>원주시</td>\n",
       "    </tr>\n",
       "    <tr>\n",
       "      <th>4</th>\n",
       "      <td>c017526</td>\n",
       "      <td>2002-07-31</td>\n",
       "      <td>경기도 부천시 오정구 소사로730번길</td>\n",
       "      <td>F</td>\n",
       "      <td>1960</td>\n",
       "      <td>경기도</td>\n",
       "      <td>부천시</td>\n",
       "    </tr>\n",
       "  </tbody>\n",
       "</table>\n",
       "</div>"
      ],
      "text/plain": [
       "  CustomerID RegisterDate               Address Gender  BirthYear  Addr1 Addr2\n",
       "0    c017487   2002-07-31  경기 성남시 중원구 둔촌대로190번길      F       1968    경기도   성남시\n",
       "1    c017503   2002-07-31         서울 마포구 새터산12길      F       1971  서울특별시   마포구\n",
       "2    c017517   2002-07-31      경기도 남양주시 와부읍 덕소로      M       1967    경기도  남양주시\n",
       "3    c017522   2002-07-31           강원도 원주시 단구로      F       1965    강원도   원주시\n",
       "4    c017526   2002-07-31  경기도 부천시 오정구 소사로730번길      F       1960    경기도   부천시"
      ]
     },
     "execution_count": 10,
     "metadata": {},
     "output_type": "execute_result"
    }
   ],
   "source": [
    "path1 = 'https://bit.ly/CustomersFile'\n",
    "customers = pd.read_csv(path1)\n",
    "customers.head()"
   ]
  },
  {
   "cell_type": "code",
   "execution_count": 11,
   "metadata": {
    "id": "QSedynVWEp3W"
   },
   "outputs": [
    {
     "data": {
      "text/html": [
       "<div>\n",
       "<style scoped>\n",
       "    .dataframe tbody tr th:only-of-type {\n",
       "        vertical-align: middle;\n",
       "    }\n",
       "\n",
       "    .dataframe tbody tr th {\n",
       "        vertical-align: top;\n",
       "    }\n",
       "\n",
       "    .dataframe thead th {\n",
       "        text-align: right;\n",
       "    }\n",
       "</style>\n",
       "<table border=\"1\" class=\"dataframe\">\n",
       "  <thead>\n",
       "    <tr style=\"text-align: right;\">\n",
       "      <th></th>\n",
       "      <th>ProductID</th>\n",
       "      <th>ProductName</th>\n",
       "      <th>Category</th>\n",
       "      <th>SubCategory</th>\n",
       "      <th>CategoryOrd</th>\n",
       "    </tr>\n",
       "  </thead>\n",
       "  <tbody>\n",
       "    <tr>\n",
       "      <th>0</th>\n",
       "      <td>p1001771</td>\n",
       "      <td>마늘</td>\n",
       "      <td>채소</td>\n",
       "      <td>뿌리채소</td>\n",
       "      <td>5</td>\n",
       "    </tr>\n",
       "    <tr>\n",
       "      <th>1</th>\n",
       "      <td>p1002841</td>\n",
       "      <td>딸기_대</td>\n",
       "      <td>과일</td>\n",
       "      <td>과채</td>\n",
       "      <td>2</td>\n",
       "    </tr>\n",
       "    <tr>\n",
       "      <th>2</th>\n",
       "      <td>p1005621</td>\n",
       "      <td>숙주나물</td>\n",
       "      <td>반찬류</td>\n",
       "      <td>나물류</td>\n",
       "      <td>1</td>\n",
       "    </tr>\n",
       "    <tr>\n",
       "      <th>3</th>\n",
       "      <td>p1005771</td>\n",
       "      <td>두부_소</td>\n",
       "      <td>반찬류</td>\n",
       "      <td>두부</td>\n",
       "      <td>1</td>\n",
       "    </tr>\n",
       "    <tr>\n",
       "      <th>4</th>\n",
       "      <td>p1005891</td>\n",
       "      <td>두부_대</td>\n",
       "      <td>반찬류</td>\n",
       "      <td>두부</td>\n",
       "      <td>1</td>\n",
       "    </tr>\n",
       "  </tbody>\n",
       "</table>\n",
       "</div>"
      ],
      "text/plain": [
       "  ProductID ProductName Category SubCategory  CategoryOrd\n",
       "0  p1001771          마늘       채소        뿌리채소            5\n",
       "1  p1002841        딸기_대       과일          과채            2\n",
       "2  p1005621        숙주나물      반찬류         나물류            1\n",
       "3  p1005771        두부_소      반찬류          두부            1\n",
       "4  p1005891        두부_대      반찬류          두부            1"
      ]
     },
     "execution_count": 11,
     "metadata": {},
     "output_type": "execute_result"
    }
   ],
   "source": [
    "path2 = 'https://bit.ly/ProductsFile'\n",
    "products = pd.read_csv(path2)\n",
    "products.head()"
   ]
  },
  {
   "cell_type": "code",
   "execution_count": 12,
   "metadata": {
    "id": "OPfgGedaEqnw"
   },
   "outputs": [
    {
     "data": {
      "text/html": [
       "<div>\n",
       "<style scoped>\n",
       "    .dataframe tbody tr th:only-of-type {\n",
       "        vertical-align: middle;\n",
       "    }\n",
       "\n",
       "    .dataframe tbody tr th {\n",
       "        vertical-align: top;\n",
       "    }\n",
       "\n",
       "    .dataframe thead th {\n",
       "        text-align: right;\n",
       "    }\n",
       "</style>\n",
       "<table border=\"1\" class=\"dataframe\">\n",
       "  <thead>\n",
       "    <tr style=\"text-align: right;\">\n",
       "      <th></th>\n",
       "      <th>OrderID</th>\n",
       "      <th>Seq</th>\n",
       "      <th>OrderDate</th>\n",
       "      <th>ProductID</th>\n",
       "      <th>Qty</th>\n",
       "      <th>Amt</th>\n",
       "      <th>CustomerID</th>\n",
       "    </tr>\n",
       "  </thead>\n",
       "  <tbody>\n",
       "    <tr>\n",
       "      <th>0</th>\n",
       "      <td>1</td>\n",
       "      <td>1</td>\n",
       "      <td>2016-01-02</td>\n",
       "      <td>p1030071</td>\n",
       "      <td>2</td>\n",
       "      <td>7900</td>\n",
       "      <td>c107853</td>\n",
       "    </tr>\n",
       "    <tr>\n",
       "      <th>1</th>\n",
       "      <td>2</td>\n",
       "      <td>1</td>\n",
       "      <td>2016-01-02</td>\n",
       "      <td>p1012761</td>\n",
       "      <td>1</td>\n",
       "      <td>1700</td>\n",
       "      <td>c110521</td>\n",
       "    </tr>\n",
       "    <tr>\n",
       "      <th>2</th>\n",
       "      <td>2</td>\n",
       "      <td>2</td>\n",
       "      <td>2016-01-02</td>\n",
       "      <td>p1012581</td>\n",
       "      <td>1</td>\n",
       "      <td>1000</td>\n",
       "      <td>c110521</td>\n",
       "    </tr>\n",
       "    <tr>\n",
       "      <th>3</th>\n",
       "      <td>2</td>\n",
       "      <td>3</td>\n",
       "      <td>2016-01-02</td>\n",
       "      <td>p1175481</td>\n",
       "      <td>1</td>\n",
       "      <td>1300</td>\n",
       "      <td>c110521</td>\n",
       "    </tr>\n",
       "    <tr>\n",
       "      <th>4</th>\n",
       "      <td>2</td>\n",
       "      <td>4</td>\n",
       "      <td>2016-01-02</td>\n",
       "      <td>p1178011</td>\n",
       "      <td>1</td>\n",
       "      <td>8800</td>\n",
       "      <td>c110521</td>\n",
       "    </tr>\n",
       "  </tbody>\n",
       "</table>\n",
       "</div>"
      ],
      "text/plain": [
       "   OrderID  Seq   OrderDate ProductID  Qty   Amt CustomerID\n",
       "0        1    1  2016-01-02  p1030071    2  7900    c107853\n",
       "1        2    1  2016-01-02  p1012761    1  1700    c110521\n",
       "2        2    2  2016-01-02  p1012581    1  1000    c110521\n",
       "3        2    3  2016-01-02  p1175481    1  1300    c110521\n",
       "4        2    4  2016-01-02  p1178011    1  8800    c110521"
      ]
     },
     "execution_count": 12,
     "metadata": {},
     "output_type": "execute_result"
    }
   ],
   "source": [
    "path3 = 'https://bit.ly/OrdersFile'\n",
    "orders = pd.read_csv(path3)\n",
    "orders.head()"
   ]
  },
  {
   "cell_type": "markdown",
   "metadata": {
    "id": "H4KWZGI8HBIA"
   },
   "source": [
    "## 2.데이터 탐색\n",
    "\n",
    "다음과 같은 정보 확인을 통해 처리할 대상 데이터를 이해합니다.\n",
    "- 상/하위 데이터 확인\n",
    "- 데이터프레임 크기 확인\n",
    "- 열 이름, 데이터 형식, 값 개수 등 확인\n",
    "- 기초 통계정보 확인\n",
    "- 결측치 확인\n",
    "- 범주형 데이터 확인\n",
    "- 개별 열 값 상세 확인 등"
   ]
  },
  {
   "cell_type": "markdown",
   "metadata": {
    "id": "X7I-KgAjJ60t"
   },
   "source": [
    "**1) 고객 정보(customers)**  4개이상\n",
    "\n",
    "- customers 데이터프레임을 충분히 탐색합니다.\n",
    "- 간단한 집계를 수행해 보는 것도 좋은 방법입니다.\n",
    "- 우선 기초적인 탐색을 통해 데이터를 알아본 후 지역별, 나이별, 성별 고객의 수를 조사하였습니다."
   ]
  },
  {
   "cell_type": "code",
   "execution_count": 14,
   "metadata": {
    "id": "SBDudJlmHDOi"
   },
   "outputs": [
    {
     "data": {
      "text/html": [
       "<div>\n",
       "<style scoped>\n",
       "    .dataframe tbody tr th:only-of-type {\n",
       "        vertical-align: middle;\n",
       "    }\n",
       "\n",
       "    .dataframe tbody tr th {\n",
       "        vertical-align: top;\n",
       "    }\n",
       "\n",
       "    .dataframe thead th {\n",
       "        text-align: right;\n",
       "    }\n",
       "</style>\n",
       "<table border=\"1\" class=\"dataframe\">\n",
       "  <thead>\n",
       "    <tr style=\"text-align: right;\">\n",
       "      <th></th>\n",
       "      <th>CustomerID</th>\n",
       "      <th>RegisterDate</th>\n",
       "      <th>Address</th>\n",
       "      <th>Gender</th>\n",
       "      <th>BirthYear</th>\n",
       "      <th>Addr1</th>\n",
       "      <th>Addr2</th>\n",
       "    </tr>\n",
       "  </thead>\n",
       "  <tbody>\n",
       "    <tr>\n",
       "      <th>2233</th>\n",
       "      <td>c400312</td>\n",
       "      <td>2017-03-03</td>\n",
       "      <td>인천 동구 송미로</td>\n",
       "      <td>F</td>\n",
       "      <td>1975</td>\n",
       "      <td>인천광역시</td>\n",
       "      <td>동구</td>\n",
       "    </tr>\n",
       "    <tr>\n",
       "      <th>2234</th>\n",
       "      <td>c400470</td>\n",
       "      <td>2017-03-06</td>\n",
       "      <td>경기도 용인시 수지구 수풍로</td>\n",
       "      <td>F</td>\n",
       "      <td>1979</td>\n",
       "      <td>경기도</td>\n",
       "      <td>용인시</td>\n",
       "    </tr>\n",
       "    <tr>\n",
       "      <th>2235</th>\n",
       "      <td>c400665</td>\n",
       "      <td>2017-03-08</td>\n",
       "      <td>인천광역시 계양구 장제로</td>\n",
       "      <td>F</td>\n",
       "      <td>1964</td>\n",
       "      <td>인천광역시</td>\n",
       "      <td>계양구</td>\n",
       "    </tr>\n",
       "    <tr>\n",
       "      <th>2236</th>\n",
       "      <td>c400706</td>\n",
       "      <td>2017-03-09</td>\n",
       "      <td>서울 마포구 백범로</td>\n",
       "      <td>F</td>\n",
       "      <td>1981</td>\n",
       "      <td>서울특별시</td>\n",
       "      <td>마포구</td>\n",
       "    </tr>\n",
       "    <tr>\n",
       "      <th>2237</th>\n",
       "      <td>c400735</td>\n",
       "      <td>2017-03-09</td>\n",
       "      <td>경기도 남양주시 와부읍 덕소로</td>\n",
       "      <td>F</td>\n",
       "      <td>1970</td>\n",
       "      <td>경기도</td>\n",
       "      <td>남양주시</td>\n",
       "    </tr>\n",
       "    <tr>\n",
       "      <th>2238</th>\n",
       "      <td>c400937</td>\n",
       "      <td>2017-03-12</td>\n",
       "      <td>인천광역시 계양구 주부토로</td>\n",
       "      <td>F</td>\n",
       "      <td>1980</td>\n",
       "      <td>인천광역시</td>\n",
       "      <td>계양구</td>\n",
       "    </tr>\n",
       "    <tr>\n",
       "      <th>2239</th>\n",
       "      <td>c401555</td>\n",
       "      <td>2017-03-20</td>\n",
       "      <td>경기도 남양주시 별내면 청학로68번길</td>\n",
       "      <td>F</td>\n",
       "      <td>1981</td>\n",
       "      <td>경기도</td>\n",
       "      <td>남양주시</td>\n",
       "    </tr>\n",
       "    <tr>\n",
       "      <th>2240</th>\n",
       "      <td>c401584</td>\n",
       "      <td>2017-03-20</td>\n",
       "      <td>경기도 성남시 분당구 불정로</td>\n",
       "      <td>F</td>\n",
       "      <td>1979</td>\n",
       "      <td>경기도</td>\n",
       "      <td>성남시</td>\n",
       "    </tr>\n",
       "    <tr>\n",
       "      <th>2241</th>\n",
       "      <td>c402010</td>\n",
       "      <td>2017-03-25</td>\n",
       "      <td>경기도 성남시 분당구 판교원로82번길</td>\n",
       "      <td>F</td>\n",
       "      <td>1969</td>\n",
       "      <td>경기도</td>\n",
       "      <td>성남시</td>\n",
       "    </tr>\n",
       "    <tr>\n",
       "      <th>2242</th>\n",
       "      <td>c402634</td>\n",
       "      <td>2017-03-30</td>\n",
       "      <td>경기도 용인시 수지구 죽전로</td>\n",
       "      <td>F</td>\n",
       "      <td>1960</td>\n",
       "      <td>경기도</td>\n",
       "      <td>용인시</td>\n",
       "    </tr>\n",
       "  </tbody>\n",
       "</table>\n",
       "</div>"
      ],
      "text/plain": [
       "     CustomerID RegisterDate               Address Gender  BirthYear  Addr1  \\\n",
       "2233    c400312   2017-03-03             인천 동구 송미로      F       1975  인천광역시   \n",
       "2234    c400470   2017-03-06       경기도 용인시 수지구 수풍로      F       1979    경기도   \n",
       "2235    c400665   2017-03-08         인천광역시 계양구 장제로      F       1964  인천광역시   \n",
       "2236    c400706   2017-03-09            서울 마포구 백범로      F       1981  서울특별시   \n",
       "2237    c400735   2017-03-09      경기도 남양주시 와부읍 덕소로      F       1970    경기도   \n",
       "2238    c400937   2017-03-12        인천광역시 계양구 주부토로      F       1980  인천광역시   \n",
       "2239    c401555   2017-03-20  경기도 남양주시 별내면 청학로68번길      F       1981    경기도   \n",
       "2240    c401584   2017-03-20       경기도 성남시 분당구 불정로      F       1979    경기도   \n",
       "2241    c402010   2017-03-25  경기도 성남시 분당구 판교원로82번길      F       1969    경기도   \n",
       "2242    c402634   2017-03-30       경기도 용인시 수지구 죽전로      F       1960    경기도   \n",
       "\n",
       "     Addr2  \n",
       "2233    동구  \n",
       "2234   용인시  \n",
       "2235   계양구  \n",
       "2236   마포구  \n",
       "2237  남양주시  \n",
       "2238   계양구  \n",
       "2239  남양주시  \n",
       "2240   성남시  \n",
       "2241   성남시  \n",
       "2242   용인시  "
      ]
     },
     "execution_count": 14,
     "metadata": {},
     "output_type": "execute_result"
    }
   ],
   "source": [
    "#하위 10개 확인\n",
    "customers.tail(10)\n"
   ]
  },
  {
   "cell_type": "code",
   "execution_count": 15,
   "metadata": {
    "id": "x9_8MKEwtWFZ"
   },
   "outputs": [
    {
     "name": "stdout",
     "output_type": "stream",
     "text": [
      "<class 'pandas.core.frame.DataFrame'>\n",
      "RangeIndex: 2243 entries, 0 to 2242\n",
      "Data columns (total 7 columns):\n",
      " #   Column        Non-Null Count  Dtype \n",
      "---  ------        --------------  ----- \n",
      " 0   CustomerID    2243 non-null   object\n",
      " 1   RegisterDate  2243 non-null   object\n",
      " 2   Address       2243 non-null   object\n",
      " 3   Gender        2243 non-null   object\n",
      " 4   BirthYear     2243 non-null   int64 \n",
      " 5   Addr1         2243 non-null   object\n",
      " 6   Addr2         2243 non-null   object\n",
      "dtypes: int64(1), object(6)\n",
      "memory usage: 122.8+ KB\n"
     ]
    }
   ],
   "source": [
    "#열 정보 확인\n",
    "customers.info()\n"
   ]
  },
  {
   "cell_type": "code",
   "execution_count": 17,
   "metadata": {
    "id": "vAZLgCLXKCMB"
   },
   "outputs": [
    {
     "data": {
      "text/plain": [
       "CustomerID      0\n",
       "RegisterDate    0\n",
       "Address         0\n",
       "Gender          0\n",
       "BirthYear       0\n",
       "Addr1           0\n",
       "Addr2           0\n",
       "dtype: int64"
      ]
     },
     "execution_count": 17,
     "metadata": {},
     "output_type": "execute_result"
    }
   ],
   "source": [
    "#결측치 확인\n",
    "customers.isna().sum()\n"
   ]
  },
  {
   "cell_type": "code",
   "execution_count": 18,
   "metadata": {
    "id": "SYVsLxh6KguC"
   },
   "outputs": [
    {
     "data": {
      "text/plain": [
       "경기도      1260\n",
       "서울특별시     564\n",
       "인천광역시     325\n",
       "강원도        62\n",
       "대구광역시       8\n",
       "충청북도        8\n",
       "충청남도        6\n",
       "전라남도        3\n",
       "광주광역시       3\n",
       "경상북도        2\n",
       "경상남도        1\n",
       "전라북도        1\n",
       "Name: Addr1, dtype: int64"
      ]
     },
     "execution_count": 18,
     "metadata": {},
     "output_type": "execute_result"
    }
   ],
   "source": [
    "#value count - 지역\n",
    "customers['Addr1'].value_counts()\n"
   ]
  },
  {
   "cell_type": "code",
   "execution_count": 19,
   "metadata": {
    "id": "RlaiQ6xOGNvx"
   },
   "outputs": [
    {
     "data": {
      "text/plain": [
       "F    2060\n",
       "M     183\n",
       "Name: Gender, dtype: int64"
      ]
     },
     "execution_count": 19,
     "metadata": {},
     "output_type": "execute_result"
    }
   ],
   "source": [
    "#value count - 성별\n",
    "customers['Gender'].value_counts()\n"
   ]
  },
  {
   "cell_type": "code",
   "execution_count": 20,
   "metadata": {
    "id": "z8eUFVYTGNvy"
   },
   "outputs": [
    {
     "data": {
      "text/plain": [
       "1973    122\n",
       "1971    116\n",
       "1974    107\n",
       "1979    105\n",
       "1970    104\n",
       "       ... \n",
       "1939      2\n",
       "1936      1\n",
       "1994      1\n",
       "1995      1\n",
       "1999      1\n",
       "Name: BirthYear, Length: 62, dtype: int64"
      ]
     },
     "execution_count": 20,
     "metadata": {},
     "output_type": "execute_result"
    }
   ],
   "source": [
    "#value count - 나이\n",
    "customers['BirthYear'].value_counts()\n"
   ]
  },
  {
   "cell_type": "markdown",
   "metadata": {
    "id": "PUYIHVzYGNvy"
   },
   "source": [
    "- 탐색 결과\n",
    "    - 데이터는 날짜순 저장, 결측치는 없었다.\n",
    "    - 서울, 경기, 인천에 사는 고객이 대부분의 비중을 차지하였다.\n",
    "    - 여성 고객이 대부분이었다. -> 사용금액에서도 차이가 있는지 알아볼 예정이다.\n",
    "    - 나이가 작아질수록 고객이 적어지는 경향이보인다. -> 나이 컬럼을 추가해 20대, 30대...로 그룹화하여 알아볼 예정이다.\n",
    "\n"
   ]
  },
  {
   "cell_type": "markdown",
   "metadata": {
    "id": "ktmISAkXgBM0"
   },
   "source": [
    "**2) 상품 정보(products)**\n",
    "\n",
    "- products 데이터프레임을 충분히 탐색합니다.\n",
    "- 간단한 집계를 수행해 보는 것도 좋은 방법입니다."
   ]
  },
  {
   "cell_type": "code",
   "execution_count": 21,
   "metadata": {
    "id": "xmhzfhVlgBM0"
   },
   "outputs": [
    {
     "data": {
      "text/html": [
       "<div>\n",
       "<style scoped>\n",
       "    .dataframe tbody tr th:only-of-type {\n",
       "        vertical-align: middle;\n",
       "    }\n",
       "\n",
       "    .dataframe tbody tr th {\n",
       "        vertical-align: top;\n",
       "    }\n",
       "\n",
       "    .dataframe thead th {\n",
       "        text-align: right;\n",
       "    }\n",
       "</style>\n",
       "<table border=\"1\" class=\"dataframe\">\n",
       "  <thead>\n",
       "    <tr style=\"text-align: right;\">\n",
       "      <th></th>\n",
       "      <th>ProductID</th>\n",
       "      <th>ProductName</th>\n",
       "      <th>Category</th>\n",
       "      <th>SubCategory</th>\n",
       "      <th>CategoryOrd</th>\n",
       "    </tr>\n",
       "  </thead>\n",
       "  <tbody>\n",
       "    <tr>\n",
       "      <th>52</th>\n",
       "      <td>p1231011</td>\n",
       "      <td>초코아이스크림</td>\n",
       "      <td>유제품</td>\n",
       "      <td>아이스크림</td>\n",
       "      <td>4</td>\n",
       "    </tr>\n",
       "    <tr>\n",
       "      <th>53</th>\n",
       "      <td>p1233511</td>\n",
       "      <td>피망</td>\n",
       "      <td>채소</td>\n",
       "      <td>뿌리채소</td>\n",
       "      <td>5</td>\n",
       "    </tr>\n",
       "    <tr>\n",
       "      <th>54</th>\n",
       "      <td>p1234751</td>\n",
       "      <td>초코콘</td>\n",
       "      <td>유제품</td>\n",
       "      <td>아이스크림</td>\n",
       "      <td>4</td>\n",
       "    </tr>\n",
       "    <tr>\n",
       "      <th>55</th>\n",
       "      <td>p1235451</td>\n",
       "      <td>콘칩</td>\n",
       "      <td>간식</td>\n",
       "      <td>과자</td>\n",
       "      <td>3</td>\n",
       "    </tr>\n",
       "    <tr>\n",
       "      <th>56</th>\n",
       "      <td>p1237811</td>\n",
       "      <td>사과_대</td>\n",
       "      <td>과일</td>\n",
       "      <td>과수</td>\n",
       "      <td>2</td>\n",
       "    </tr>\n",
       "    <tr>\n",
       "      <th>57</th>\n",
       "      <td>p1246581</td>\n",
       "      <td>초코우유</td>\n",
       "      <td>유제품</td>\n",
       "      <td>우유</td>\n",
       "      <td>4</td>\n",
       "    </tr>\n",
       "    <tr>\n",
       "      <th>58</th>\n",
       "      <td>p1255281</td>\n",
       "      <td>딸기요거트</td>\n",
       "      <td>유제품</td>\n",
       "      <td>요거트</td>\n",
       "      <td>4</td>\n",
       "    </tr>\n",
       "    <tr>\n",
       "      <th>59</th>\n",
       "      <td>p1256521</td>\n",
       "      <td>부침용두부</td>\n",
       "      <td>반찬류</td>\n",
       "      <td>두부</td>\n",
       "      <td>1</td>\n",
       "    </tr>\n",
       "    <tr>\n",
       "      <th>60</th>\n",
       "      <td>p1284851</td>\n",
       "      <td>유기농우유</td>\n",
       "      <td>유제품</td>\n",
       "      <td>우유</td>\n",
       "      <td>4</td>\n",
       "    </tr>\n",
       "    <tr>\n",
       "      <th>61</th>\n",
       "      <td>p1299491</td>\n",
       "      <td>당근</td>\n",
       "      <td>채소</td>\n",
       "      <td>뿌리채소</td>\n",
       "      <td>5</td>\n",
       "    </tr>\n",
       "  </tbody>\n",
       "</table>\n",
       "</div>"
      ],
      "text/plain": [
       "   ProductID ProductName Category SubCategory  CategoryOrd\n",
       "52  p1231011     초코아이스크림      유제품       아이스크림            4\n",
       "53  p1233511          피망       채소        뿌리채소            5\n",
       "54  p1234751         초코콘      유제품       아이스크림            4\n",
       "55  p1235451          콘칩       간식          과자            3\n",
       "56  p1237811        사과_대       과일          과수            2\n",
       "57  p1246581        초코우유      유제품          우유            4\n",
       "58  p1255281       딸기요거트      유제품         요거트            4\n",
       "59  p1256521       부침용두부      반찬류          두부            1\n",
       "60  p1284851       유기농우유      유제품          우유            4\n",
       "61  p1299491          당근       채소        뿌리채소            5"
      ]
     },
     "execution_count": 21,
     "metadata": {},
     "output_type": "execute_result"
    }
   ],
   "source": [
    "#하위 10개 확인\n",
    "products.tail(10)\n"
   ]
  },
  {
   "cell_type": "code",
   "execution_count": 22,
   "metadata": {
    "id": "C_IRCYhStTmn"
   },
   "outputs": [
    {
     "name": "stdout",
     "output_type": "stream",
     "text": [
      "<class 'pandas.core.frame.DataFrame'>\n",
      "RangeIndex: 62 entries, 0 to 61\n",
      "Data columns (total 5 columns):\n",
      " #   Column       Non-Null Count  Dtype \n",
      "---  ------       --------------  ----- \n",
      " 0   ProductID    62 non-null     object\n",
      " 1   ProductName  62 non-null     object\n",
      " 2   Category     62 non-null     object\n",
      " 3   SubCategory  62 non-null     object\n",
      " 4   CategoryOrd  62 non-null     int64 \n",
      "dtypes: int64(1), object(4)\n",
      "memory usage: 2.5+ KB\n"
     ]
    }
   ],
   "source": [
    "#열 정보 확인\n",
    "products.info()\n"
   ]
  },
  {
   "cell_type": "code",
   "execution_count": 23,
   "metadata": {
    "id": "2UORrtJftFR2"
   },
   "outputs": [
    {
     "data": {
      "text/plain": [
       "ProductID      0\n",
       "ProductName    0\n",
       "Category       0\n",
       "SubCategory    0\n",
       "CategoryOrd    0\n",
       "dtype: int64"
      ]
     },
     "execution_count": 23,
     "metadata": {},
     "output_type": "execute_result"
    }
   ],
   "source": [
    "#결측치 확인\n",
    "products.isna().sum()\n"
   ]
  },
  {
   "cell_type": "code",
   "execution_count": 27,
   "metadata": {
    "id": "tNMknvcbgBM0"
   },
   "outputs": [
    {
     "data": {
      "text/plain": [
       "채소     23\n",
       "유제품    14\n",
       "간식     11\n",
       "반찬류     8\n",
       "과일      6\n",
       "Name: Category, dtype: int64"
      ]
     },
     "execution_count": 27,
     "metadata": {},
     "output_type": "execute_result"
    }
   ],
   "source": [
    "#value count - 카테고리\n",
    "products['Category'].value_counts()\n"
   ]
  },
  {
   "cell_type": "code",
   "execution_count": 28,
   "metadata": {
    "id": "NhIVId_ngBM0"
   },
   "outputs": [
    {
     "data": {
      "text/plain": [
       "뿌리채소     9\n",
       "잎채소      8\n",
       "아이스크림    7\n",
       "두부       6\n",
       "과자       6\n",
       "우유       5\n",
       "열매채소     4\n",
       "과채       4\n",
       "사탕류      3\n",
       "나물류      2\n",
       "빵        2\n",
       "버섯       2\n",
       "요거트      2\n",
       "과수       2\n",
       "Name: SubCategory, dtype: int64"
      ]
     },
     "execution_count": 28,
     "metadata": {},
     "output_type": "execute_result"
    }
   ],
   "source": [
    "#value count - 서브카테고리\n",
    "products['SubCategory'].value_counts()\n",
    "\n"
   ]
  },
  {
   "cell_type": "code",
   "execution_count": 29,
   "metadata": {
    "id": "50EpPpSJGNVV"
   },
   "outputs": [
    {
     "data": {
      "text/plain": [
       "당근         3\n",
       "감자칩        2\n",
       "브로컬리       1\n",
       "깻잎         1\n",
       "백오이        1\n",
       "청오이        1\n",
       "초코아이스크림    1\n",
       "유부         1\n",
       "딸기아이스크림    1\n",
       "팽이버섯       1\n",
       "짱구         1\n",
       "사과아이스크림    1\n",
       "포도컵푸딩      1\n",
       "애호박        1\n",
       "숙주나물       1\n",
       "양파         1\n",
       "쌈모음        1\n",
       "부추         1\n",
       "배아이스크림     1\n",
       "저지방우유      1\n",
       "통단팥빵       1\n",
       "사과_대       1\n",
       "파          1\n",
       "무농약시금치     1\n",
       "딸기_소       1\n",
       "초코콘        1\n",
       "상추         1\n",
       "마늘         1\n",
       "유기농우유      1\n",
       "무          1\n",
       "팥아이스크림     1\n",
       "소보루빵       1\n",
       "사과_소       1\n",
       "콘칩         1\n",
       "순두부        1\n",
       "양배출        1\n",
       "열무         1\n",
       "부침용두부      1\n",
       "뿌셔뿌셔       1\n",
       "플레인요거트     1\n",
       "고구마스틱      1\n",
       "느타리버섯      1\n",
       "피망         1\n",
       "우유200      1\n",
       "연두부        1\n",
       "토마토        1\n",
       "두부_소       1\n",
       "우유1000     1\n",
       "참외         1\n",
       "딸기요거트      1\n",
       "콩나물        1\n",
       "낱개캔디       1\n",
       "딸기_대       1\n",
       "시금치        1\n",
       "두부_대       1\n",
       "감귤컵푸딩      1\n",
       "포토아이스크림    1\n",
       "초코우유       1\n",
       "새우깡        1\n",
       "Name: ProductName, dtype: int64"
      ]
     },
     "execution_count": 29,
     "metadata": {},
     "output_type": "execute_result"
    }
   ],
   "source": [
    "#value count - 상품이름\n",
    "products['ProductName'].value_counts()\n"
   ]
  },
  {
   "cell_type": "markdown",
   "metadata": {
    "id": "WxG2uaoRGNVW"
   },
   "source": [
    "- 탐색 결과\n",
    "    - 데이터의 결측치는 존재하지 않았습니다.\n",
    "    - 상품의 종류는 총 62개이고 큰 카테고리는 5개입니다.\n",
    "    - 날짜별, 성별, 지역별 등등 기준으로 가장 많이 주문된 카테고리, 서브카테고리 등을 조사할 수 있습니다.\n"
   ]
  },
  {
   "cell_type": "markdown",
   "metadata": {
    "id": "Ek_BgBX7gBM1"
   },
   "source": [
    "**3) 주문 정보(orders)**\n",
    "\n",
    "- orders 데이터프레임을 충분히 탐색합니다.\n",
    "- 간단한 집계를 수행해 보는 것도 좋은 방법입니다."
   ]
  },
  {
   "cell_type": "code",
   "execution_count": 30,
   "metadata": {
    "id": "6550xr-LgBM1"
   },
   "outputs": [
    {
     "data": {
      "text/html": [
       "<div>\n",
       "<style scoped>\n",
       "    .dataframe tbody tr th:only-of-type {\n",
       "        vertical-align: middle;\n",
       "    }\n",
       "\n",
       "    .dataframe tbody tr th {\n",
       "        vertical-align: top;\n",
       "    }\n",
       "\n",
       "    .dataframe thead th {\n",
       "        text-align: right;\n",
       "    }\n",
       "</style>\n",
       "<table border=\"1\" class=\"dataframe\">\n",
       "  <thead>\n",
       "    <tr style=\"text-align: right;\">\n",
       "      <th></th>\n",
       "      <th>OrderID</th>\n",
       "      <th>Seq</th>\n",
       "      <th>OrderDate</th>\n",
       "      <th>ProductID</th>\n",
       "      <th>Qty</th>\n",
       "      <th>Amt</th>\n",
       "      <th>CustomerID</th>\n",
       "    </tr>\n",
       "  </thead>\n",
       "  <tbody>\n",
       "    <tr>\n",
       "      <th>68829</th>\n",
       "      <td>74</td>\n",
       "      <td>2</td>\n",
       "      <td>2017-03-31</td>\n",
       "      <td>p1175481</td>\n",
       "      <td>1</td>\n",
       "      <td>1300</td>\n",
       "      <td>c221180</td>\n",
       "    </tr>\n",
       "    <tr>\n",
       "      <th>68830</th>\n",
       "      <td>74</td>\n",
       "      <td>3</td>\n",
       "      <td>2017-03-31</td>\n",
       "      <td>p1201601</td>\n",
       "      <td>1</td>\n",
       "      <td>2100</td>\n",
       "      <td>c221180</td>\n",
       "    </tr>\n",
       "    <tr>\n",
       "      <th>68831</th>\n",
       "      <td>75</td>\n",
       "      <td>1</td>\n",
       "      <td>2017-03-31</td>\n",
       "      <td>p1097821</td>\n",
       "      <td>1</td>\n",
       "      <td>1000</td>\n",
       "      <td>c255098</td>\n",
       "    </tr>\n",
       "    <tr>\n",
       "      <th>68832</th>\n",
       "      <td>75</td>\n",
       "      <td>2</td>\n",
       "      <td>2017-03-31</td>\n",
       "      <td>p1119071</td>\n",
       "      <td>1</td>\n",
       "      <td>1091</td>\n",
       "      <td>c255098</td>\n",
       "    </tr>\n",
       "    <tr>\n",
       "      <th>68833</th>\n",
       "      <td>75</td>\n",
       "      <td>3</td>\n",
       "      <td>2017-03-31</td>\n",
       "      <td>p1201601</td>\n",
       "      <td>1</td>\n",
       "      <td>2100</td>\n",
       "      <td>c255098</td>\n",
       "    </tr>\n",
       "    <tr>\n",
       "      <th>68834</th>\n",
       "      <td>76</td>\n",
       "      <td>1</td>\n",
       "      <td>2017-03-31</td>\n",
       "      <td>p1201601</td>\n",
       "      <td>1</td>\n",
       "      <td>2100</td>\n",
       "      <td>c302834</td>\n",
       "    </tr>\n",
       "    <tr>\n",
       "      <th>68835</th>\n",
       "      <td>77</td>\n",
       "      <td>1</td>\n",
       "      <td>2017-03-31</td>\n",
       "      <td>p1002841</td>\n",
       "      <td>1</td>\n",
       "      <td>10700</td>\n",
       "      <td>c343734</td>\n",
       "    </tr>\n",
       "    <tr>\n",
       "      <th>68836</th>\n",
       "      <td>78</td>\n",
       "      <td>1</td>\n",
       "      <td>2017-03-31</td>\n",
       "      <td>p1012761</td>\n",
       "      <td>1</td>\n",
       "      <td>1900</td>\n",
       "      <td>c354639</td>\n",
       "    </tr>\n",
       "    <tr>\n",
       "      <th>68837</th>\n",
       "      <td>79</td>\n",
       "      <td>1</td>\n",
       "      <td>2017-03-31</td>\n",
       "      <td>p1005891</td>\n",
       "      <td>1</td>\n",
       "      <td>1950</td>\n",
       "      <td>c394131</td>\n",
       "    </tr>\n",
       "    <tr>\n",
       "      <th>68838</th>\n",
       "      <td>79</td>\n",
       "      <td>2</td>\n",
       "      <td>2017-03-31</td>\n",
       "      <td>p1179241</td>\n",
       "      <td>1</td>\n",
       "      <td>2200</td>\n",
       "      <td>c394131</td>\n",
       "    </tr>\n",
       "  </tbody>\n",
       "</table>\n",
       "</div>"
      ],
      "text/plain": [
       "       OrderID  Seq   OrderDate ProductID  Qty    Amt CustomerID\n",
       "68829       74    2  2017-03-31  p1175481    1   1300    c221180\n",
       "68830       74    3  2017-03-31  p1201601    1   2100    c221180\n",
       "68831       75    1  2017-03-31  p1097821    1   1000    c255098\n",
       "68832       75    2  2017-03-31  p1119071    1   1091    c255098\n",
       "68833       75    3  2017-03-31  p1201601    1   2100    c255098\n",
       "68834       76    1  2017-03-31  p1201601    1   2100    c302834\n",
       "68835       77    1  2017-03-31  p1002841    1  10700    c343734\n",
       "68836       78    1  2017-03-31  p1012761    1   1900    c354639\n",
       "68837       79    1  2017-03-31  p1005891    1   1950    c394131\n",
       "68838       79    2  2017-03-31  p1179241    1   2200    c394131"
      ]
     },
     "execution_count": 30,
     "metadata": {},
     "output_type": "execute_result"
    }
   ],
   "source": [
    "#하위 10개 확인\n",
    "orders.tail(10)\n"
   ]
  },
  {
   "cell_type": "code",
   "execution_count": 31,
   "metadata": {
    "id": "Az3Ms14YgBM1"
   },
   "outputs": [
    {
     "name": "stdout",
     "output_type": "stream",
     "text": [
      "<class 'pandas.core.frame.DataFrame'>\n",
      "RangeIndex: 68839 entries, 0 to 68838\n",
      "Data columns (total 7 columns):\n",
      " #   Column      Non-Null Count  Dtype \n",
      "---  ------      --------------  ----- \n",
      " 0   OrderID     68839 non-null  int64 \n",
      " 1   Seq         68839 non-null  int64 \n",
      " 2   OrderDate   68839 non-null  object\n",
      " 3   ProductID   68839 non-null  object\n",
      " 4   Qty         68839 non-null  int64 \n",
      " 5   Amt         68839 non-null  int64 \n",
      " 6   CustomerID  68839 non-null  object\n",
      "dtypes: int64(4), object(3)\n",
      "memory usage: 3.7+ MB\n"
     ]
    }
   ],
   "source": [
    "#열 정보 확인\n",
    "orders.info()\n"
   ]
  },
  {
   "cell_type": "code",
   "execution_count": 32,
   "metadata": {
    "id": "jaTP8tS2tJOT"
   },
   "outputs": [
    {
     "data": {
      "text/plain": [
       "OrderID       0\n",
       "Seq           0\n",
       "OrderDate     0\n",
       "ProductID     0\n",
       "Qty           0\n",
       "Amt           0\n",
       "CustomerID    0\n",
       "dtype: int64"
      ]
     },
     "execution_count": 32,
     "metadata": {},
     "output_type": "execute_result"
    }
   ],
   "source": [
    "#결측치 확인\n",
    "orders.isna().sum()\n"
   ]
  },
  {
   "cell_type": "code",
   "execution_count": 33,
   "metadata": {
    "id": "Gb4qRTALgBM2"
   },
   "outputs": [
    {
     "data": {
      "text/plain": [
       "1      57483\n",
       "2       8292\n",
       "3       1683\n",
       "4        697\n",
       "5        321\n",
       "6        144\n",
       "10        71\n",
       "8         51\n",
       "7         48\n",
       "9         14\n",
       "12        10\n",
       "16         4\n",
       "60         4\n",
       "15         2\n",
       "100        2\n",
       "50         2\n",
       "200        1\n",
       "72         1\n",
       "70         1\n",
       "14         1\n",
       "18         1\n",
       "19         1\n",
       "20         1\n",
       "21         1\n",
       "22         1\n",
       "25         1\n",
       "30         1\n",
       "Name: Qty, dtype: int64"
      ]
     },
     "execution_count": 33,
     "metadata": {},
     "output_type": "execute_result"
    }
   ],
   "source": [
    "#value count - 주문 횟수\n",
    "orders['Qty'].value_counts()\n"
   ]
  },
  {
   "cell_type": "code",
   "execution_count": 34,
   "metadata": {
    "id": "9HLuVi0UgBM2"
   },
   "outputs": [
    {
     "data": {
      "text/html": [
       "<div>\n",
       "<style scoped>\n",
       "    .dataframe tbody tr th:only-of-type {\n",
       "        vertical-align: middle;\n",
       "    }\n",
       "\n",
       "    .dataframe tbody tr th {\n",
       "        vertical-align: top;\n",
       "    }\n",
       "\n",
       "    .dataframe thead th {\n",
       "        text-align: right;\n",
       "    }\n",
       "</style>\n",
       "<table border=\"1\" class=\"dataframe\">\n",
       "  <thead>\n",
       "    <tr style=\"text-align: right;\">\n",
       "      <th></th>\n",
       "      <th>OrderID</th>\n",
       "      <th>Seq</th>\n",
       "      <th>OrderDate</th>\n",
       "      <th>ProductID</th>\n",
       "      <th>Qty</th>\n",
       "      <th>Amt</th>\n",
       "      <th>CustomerID</th>\n",
       "    </tr>\n",
       "  </thead>\n",
       "  <tbody>\n",
       "    <tr>\n",
       "      <th>9074</th>\n",
       "      <td>17</td>\n",
       "      <td>1</td>\n",
       "      <td>2016-03-03</td>\n",
       "      <td>p1011291</td>\n",
       "      <td>22</td>\n",
       "      <td>5676</td>\n",
       "      <td>c043687</td>\n",
       "    </tr>\n",
       "    <tr>\n",
       "      <th>11668</th>\n",
       "      <td>40</td>\n",
       "      <td>1</td>\n",
       "      <td>2016-03-18</td>\n",
       "      <td>p1246581</td>\n",
       "      <td>25</td>\n",
       "      <td>28400</td>\n",
       "      <td>c276910</td>\n",
       "    </tr>\n",
       "    <tr>\n",
       "      <th>17614</th>\n",
       "      <td>38</td>\n",
       "      <td>2</td>\n",
       "      <td>2016-04-23</td>\n",
       "      <td>p1011291</td>\n",
       "      <td>60</td>\n",
       "      <td>16380</td>\n",
       "      <td>c334413</td>\n",
       "    </tr>\n",
       "    <tr>\n",
       "      <th>17880</th>\n",
       "      <td>19</td>\n",
       "      <td>1</td>\n",
       "      <td>2016-04-25</td>\n",
       "      <td>p1011291</td>\n",
       "      <td>30</td>\n",
       "      <td>8190</td>\n",
       "      <td>c193651</td>\n",
       "    </tr>\n",
       "    <tr>\n",
       "      <th>18683</th>\n",
       "      <td>56</td>\n",
       "      <td>1</td>\n",
       "      <td>2016-04-29</td>\n",
       "      <td>p1011291</td>\n",
       "      <td>50</td>\n",
       "      <td>13650</td>\n",
       "      <td>c317556</td>\n",
       "    </tr>\n",
       "    <tr>\n",
       "      <th>19382</th>\n",
       "      <td>63</td>\n",
       "      <td>1</td>\n",
       "      <td>2016-05-03</td>\n",
       "      <td>p1011291</td>\n",
       "      <td>50</td>\n",
       "      <td>13650</td>\n",
       "      <td>c366888</td>\n",
       "    </tr>\n",
       "    <tr>\n",
       "      <th>25194</th>\n",
       "      <td>34</td>\n",
       "      <td>1</td>\n",
       "      <td>2016-06-07</td>\n",
       "      <td>p1011291</td>\n",
       "      <td>70</td>\n",
       "      <td>18550</td>\n",
       "      <td>c311943</td>\n",
       "    </tr>\n",
       "    <tr>\n",
       "      <th>41725</th>\n",
       "      <td>55</td>\n",
       "      <td>1</td>\n",
       "      <td>2016-09-24</td>\n",
       "      <td>p1011291</td>\n",
       "      <td>200</td>\n",
       "      <td>51600</td>\n",
       "      <td>c043687</td>\n",
       "    </tr>\n",
       "    <tr>\n",
       "      <th>41950</th>\n",
       "      <td>15</td>\n",
       "      <td>1</td>\n",
       "      <td>2016-09-26</td>\n",
       "      <td>p1006281</td>\n",
       "      <td>100</td>\n",
       "      <td>86400</td>\n",
       "      <td>c352349</td>\n",
       "    </tr>\n",
       "    <tr>\n",
       "      <th>41951</th>\n",
       "      <td>15</td>\n",
       "      <td>2</td>\n",
       "      <td>2016-09-26</td>\n",
       "      <td>p1006411</td>\n",
       "      <td>100</td>\n",
       "      <td>109100</td>\n",
       "      <td>c352349</td>\n",
       "    </tr>\n",
       "    <tr>\n",
       "      <th>44313</th>\n",
       "      <td>78</td>\n",
       "      <td>1</td>\n",
       "      <td>2016-10-11</td>\n",
       "      <td>p1006281</td>\n",
       "      <td>60</td>\n",
       "      <td>51840</td>\n",
       "      <td>c096617</td>\n",
       "    </tr>\n",
       "    <tr>\n",
       "      <th>53035</th>\n",
       "      <td>63</td>\n",
       "      <td>3</td>\n",
       "      <td>2016-12-17</td>\n",
       "      <td>p1011291</td>\n",
       "      <td>72</td>\n",
       "      <td>19656</td>\n",
       "      <td>c345371</td>\n",
       "    </tr>\n",
       "    <tr>\n",
       "      <th>53489</th>\n",
       "      <td>52</td>\n",
       "      <td>2</td>\n",
       "      <td>2016-12-20</td>\n",
       "      <td>p1012641</td>\n",
       "      <td>21</td>\n",
       "      <td>28917</td>\n",
       "      <td>c166550</td>\n",
       "    </tr>\n",
       "    <tr>\n",
       "      <th>53914</th>\n",
       "      <td>75</td>\n",
       "      <td>1</td>\n",
       "      <td>2016-12-23</td>\n",
       "      <td>p1011291</td>\n",
       "      <td>60</td>\n",
       "      <td>16380</td>\n",
       "      <td>c108176</td>\n",
       "    </tr>\n",
       "    <tr>\n",
       "      <th>54236</th>\n",
       "      <td>23</td>\n",
       "      <td>1</td>\n",
       "      <td>2016-12-26</td>\n",
       "      <td>p1011291</td>\n",
       "      <td>60</td>\n",
       "      <td>15480</td>\n",
       "      <td>c043687</td>\n",
       "    </tr>\n",
       "    <tr>\n",
       "      <th>59263</th>\n",
       "      <td>11</td>\n",
       "      <td>2</td>\n",
       "      <td>2017-01-27</td>\n",
       "      <td>p1011291</td>\n",
       "      <td>20</td>\n",
       "      <td>5460</td>\n",
       "      <td>c395106</td>\n",
       "    </tr>\n",
       "  </tbody>\n",
       "</table>\n",
       "</div>"
      ],
      "text/plain": [
       "       OrderID  Seq   OrderDate ProductID  Qty     Amt CustomerID\n",
       "9074        17    1  2016-03-03  p1011291   22    5676    c043687\n",
       "11668       40    1  2016-03-18  p1246581   25   28400    c276910\n",
       "17614       38    2  2016-04-23  p1011291   60   16380    c334413\n",
       "17880       19    1  2016-04-25  p1011291   30    8190    c193651\n",
       "18683       56    1  2016-04-29  p1011291   50   13650    c317556\n",
       "19382       63    1  2016-05-03  p1011291   50   13650    c366888\n",
       "25194       34    1  2016-06-07  p1011291   70   18550    c311943\n",
       "41725       55    1  2016-09-24  p1011291  200   51600    c043687\n",
       "41950       15    1  2016-09-26  p1006281  100   86400    c352349\n",
       "41951       15    2  2016-09-26  p1006411  100  109100    c352349\n",
       "44313       78    1  2016-10-11  p1006281   60   51840    c096617\n",
       "53035       63    3  2016-12-17  p1011291   72   19656    c345371\n",
       "53489       52    2  2016-12-20  p1012641   21   28917    c166550\n",
       "53914       75    1  2016-12-23  p1011291   60   16380    c108176\n",
       "54236       23    1  2016-12-26  p1011291   60   15480    c043687\n",
       "59263       11    2  2017-01-27  p1011291   20    5460    c395106"
      ]
     },
     "execution_count": 34,
     "metadata": {},
     "output_type": "execute_result"
    }
   ],
   "source": [
    "#동시 20회 이상 주문하는 물품 확인\n",
    "orders[orders['Qty']>=20]\n"
   ]
  },
  {
   "cell_type": "code",
   "execution_count": 36,
   "metadata": {
    "id": "wSVyCChjGMw4"
   },
   "outputs": [
    {
     "data": {
      "text/plain": [
       "1     32451\n",
       "2     17633\n",
       "3      9163\n",
       "4      4724\n",
       "5      2459\n",
       "6      1199\n",
       "7       587\n",
       "8       298\n",
       "9       151\n",
       "10       77\n",
       "11       47\n",
       "12       27\n",
       "13       13\n",
       "14        7\n",
       "15        3\n",
       "Name: Seq, dtype: int64"
      ]
     },
     "execution_count": 36,
     "metadata": {},
     "output_type": "execute_result"
    }
   ],
   "source": [
    "#value count - 동시 주문 횟수\n",
    "orders['Seq'].value_counts()\n"
   ]
  },
  {
   "cell_type": "markdown",
   "metadata": {
    "id": "-FqyrV5RGMw5"
   },
   "source": [
    "- 탐색 결과\n",
    "    - 결측치는 없었습니다.\n",
    "    - 나이별, 월별, 가격별 주문 현황을 분석하기 위해서는 세가지 데이터 프레임의 적절한 merge가 필요하다고 생각되었습니다.\n",
    "\n"
   ]
  },
  {
   "cell_type": "markdown",
   "metadata": {
    "id": "Ssb_UpOagBM2"
   },
   "source": [
    "## 3.데이터 전처리\n",
    "\n",
    "전처리 과정에서 다음과 같은 처리를 할 수 있습니다.\n",
    "\n",
    "- 결측치 처리\n",
    "- 값 변경\n",
    "- 열 추가\n",
    "- 불필요한 열 제거\n",
    "- 열 이름 변경\n",
    "- 데이터 통합(연결 또는 조인)\n",
    "- 가변수화 등"
   ]
  },
  {
   "cell_type": "markdown",
   "metadata": {
    "id": "XDI0-X06gBM3"
   },
   "source": [
    "**1) 데이터 통합**   --> sales 데이터프레임\n",
    "\n",
    "- 각 데이터프레임의 모든 열을 통합 할 것이 아니면 \n",
    "    - 필요한 열만 추출해 별도 데이터프레임을 선언한 후 통합하거나\n",
    "    - 또는 모두 통합 후 불필요한 열을 제거하는 방법을 사용합니다.\n",
    "    \n",
    "- 통합 방안\n",
    "    - 3가지를 모두 통합합니다.\n",
    "    - 분석에 불필요하다고 판단되는 RegisterDate, Address, CategoryOrd를 제거합니다.\n",
    "    - 결측치는 아이디는 있지만 주문을 하지 않은 사람이므로 Inner로 merge해 없애주었습니다."
   ]
  },
  {
   "cell_type": "code",
   "execution_count": 77,
   "metadata": {
    "id": "NW7N_xeVgBM4"
   },
   "outputs": [],
   "source": [
    "sales = pd.merge(orders,products,how='inner')\n",
    "sales = pd.merge(sales,customers,how='inner')\n",
    "xcol = ['RegisterDate', 'Address', 'CategoryOrd']\n",
    "sales.drop(xcol, axis=1, inplace=True)"
   ]
  },
  {
   "cell_type": "markdown",
   "metadata": {
    "id": "RvrfT0pRgBM4"
   },
   "source": [
    "**2) 결과 확인**"
   ]
  },
  {
   "cell_type": "code",
   "execution_count": 81,
   "metadata": {
    "id": "j-24yh-wgBM4"
   },
   "outputs": [
    {
     "data": {
      "text/html": [
       "<div>\n",
       "<style scoped>\n",
       "    .dataframe tbody tr th:only-of-type {\n",
       "        vertical-align: middle;\n",
       "    }\n",
       "\n",
       "    .dataframe tbody tr th {\n",
       "        vertical-align: top;\n",
       "    }\n",
       "\n",
       "    .dataframe thead th {\n",
       "        text-align: right;\n",
       "    }\n",
       "</style>\n",
       "<table border=\"1\" class=\"dataframe\">\n",
       "  <thead>\n",
       "    <tr style=\"text-align: right;\">\n",
       "      <th></th>\n",
       "      <th>OrderID</th>\n",
       "      <th>Seq</th>\n",
       "      <th>OrderDate</th>\n",
       "      <th>ProductID</th>\n",
       "      <th>Qty</th>\n",
       "      <th>Amt</th>\n",
       "      <th>CustomerID</th>\n",
       "      <th>ProductName</th>\n",
       "      <th>Category</th>\n",
       "      <th>SubCategory</th>\n",
       "      <th>Gender</th>\n",
       "      <th>BirthYear</th>\n",
       "      <th>Addr1</th>\n",
       "      <th>Addr2</th>\n",
       "      <th>Age</th>\n",
       "      <th>OrderYear</th>\n",
       "      <th>OrderMonth</th>\n",
       "      <th>Agrp</th>\n",
       "      <th>Price</th>\n",
       "    </tr>\n",
       "  </thead>\n",
       "  <tbody>\n",
       "    <tr>\n",
       "      <th>0</th>\n",
       "      <td>1</td>\n",
       "      <td>1</td>\n",
       "      <td>2016-01-02</td>\n",
       "      <td>p1030071</td>\n",
       "      <td>2</td>\n",
       "      <td>7900</td>\n",
       "      <td>c107853</td>\n",
       "      <td>토마토</td>\n",
       "      <td>과일</td>\n",
       "      <td>과채</td>\n",
       "      <td>M</td>\n",
       "      <td>1961</td>\n",
       "      <td>경기도</td>\n",
       "      <td>안성시</td>\n",
       "      <td>56</td>\n",
       "      <td>2016</td>\n",
       "      <td>01</td>\n",
       "      <td>50</td>\n",
       "      <td>3950</td>\n",
       "    </tr>\n",
       "    <tr>\n",
       "      <th>1</th>\n",
       "      <td>55</td>\n",
       "      <td>1</td>\n",
       "      <td>2016-07-26</td>\n",
       "      <td>p1012581</td>\n",
       "      <td>1</td>\n",
       "      <td>1050</td>\n",
       "      <td>c107853</td>\n",
       "      <td>깻잎</td>\n",
       "      <td>채소</td>\n",
       "      <td>잎채소</td>\n",
       "      <td>M</td>\n",
       "      <td>1961</td>\n",
       "      <td>경기도</td>\n",
       "      <td>안성시</td>\n",
       "      <td>56</td>\n",
       "      <td>2016</td>\n",
       "      <td>07</td>\n",
       "      <td>50</td>\n",
       "      <td>1050</td>\n",
       "    </tr>\n",
       "    <tr>\n",
       "      <th>2</th>\n",
       "      <td>44</td>\n",
       "      <td>8</td>\n",
       "      <td>2016-09-19</td>\n",
       "      <td>p1012581</td>\n",
       "      <td>1</td>\n",
       "      <td>1050</td>\n",
       "      <td>c107853</td>\n",
       "      <td>깻잎</td>\n",
       "      <td>채소</td>\n",
       "      <td>잎채소</td>\n",
       "      <td>M</td>\n",
       "      <td>1961</td>\n",
       "      <td>경기도</td>\n",
       "      <td>안성시</td>\n",
       "      <td>56</td>\n",
       "      <td>2016</td>\n",
       "      <td>09</td>\n",
       "      <td>50</td>\n",
       "      <td>1050</td>\n",
       "    </tr>\n",
       "    <tr>\n",
       "      <th>3</th>\n",
       "      <td>36</td>\n",
       "      <td>2</td>\n",
       "      <td>2016-01-29</td>\n",
       "      <td>p1175481</td>\n",
       "      <td>1</td>\n",
       "      <td>1200</td>\n",
       "      <td>c107853</td>\n",
       "      <td>콩나물</td>\n",
       "      <td>반찬류</td>\n",
       "      <td>나물류</td>\n",
       "      <td>M</td>\n",
       "      <td>1961</td>\n",
       "      <td>경기도</td>\n",
       "      <td>안성시</td>\n",
       "      <td>56</td>\n",
       "      <td>2016</td>\n",
       "      <td>01</td>\n",
       "      <td>50</td>\n",
       "      <td>1200</td>\n",
       "    </tr>\n",
       "    <tr>\n",
       "      <th>4</th>\n",
       "      <td>54</td>\n",
       "      <td>1</td>\n",
       "      <td>2016-03-15</td>\n",
       "      <td>p1175481</td>\n",
       "      <td>1</td>\n",
       "      <td>1300</td>\n",
       "      <td>c107853</td>\n",
       "      <td>콩나물</td>\n",
       "      <td>반찬류</td>\n",
       "      <td>나물류</td>\n",
       "      <td>M</td>\n",
       "      <td>1961</td>\n",
       "      <td>경기도</td>\n",
       "      <td>안성시</td>\n",
       "      <td>56</td>\n",
       "      <td>2016</td>\n",
       "      <td>03</td>\n",
       "      <td>50</td>\n",
       "      <td>1300</td>\n",
       "    </tr>\n",
       "    <tr>\n",
       "      <th>5</th>\n",
       "      <td>50</td>\n",
       "      <td>1</td>\n",
       "      <td>2016-09-13</td>\n",
       "      <td>p1175481</td>\n",
       "      <td>1</td>\n",
       "      <td>1150</td>\n",
       "      <td>c107853</td>\n",
       "      <td>콩나물</td>\n",
       "      <td>반찬류</td>\n",
       "      <td>나물류</td>\n",
       "      <td>M</td>\n",
       "      <td>1961</td>\n",
       "      <td>경기도</td>\n",
       "      <td>안성시</td>\n",
       "      <td>56</td>\n",
       "      <td>2016</td>\n",
       "      <td>09</td>\n",
       "      <td>50</td>\n",
       "      <td>1150</td>\n",
       "    </tr>\n",
       "    <tr>\n",
       "      <th>6</th>\n",
       "      <td>44</td>\n",
       "      <td>6</td>\n",
       "      <td>2016-09-19</td>\n",
       "      <td>p1175481</td>\n",
       "      <td>1</td>\n",
       "      <td>1300</td>\n",
       "      <td>c107853</td>\n",
       "      <td>콩나물</td>\n",
       "      <td>반찬류</td>\n",
       "      <td>나물류</td>\n",
       "      <td>M</td>\n",
       "      <td>1961</td>\n",
       "      <td>경기도</td>\n",
       "      <td>안성시</td>\n",
       "      <td>56</td>\n",
       "      <td>2016</td>\n",
       "      <td>09</td>\n",
       "      <td>50</td>\n",
       "      <td>1300</td>\n",
       "    </tr>\n",
       "    <tr>\n",
       "      <th>7</th>\n",
       "      <td>35</td>\n",
       "      <td>4</td>\n",
       "      <td>2016-09-29</td>\n",
       "      <td>p1175481</td>\n",
       "      <td>2</td>\n",
       "      <td>2600</td>\n",
       "      <td>c107853</td>\n",
       "      <td>콩나물</td>\n",
       "      <td>반찬류</td>\n",
       "      <td>나물류</td>\n",
       "      <td>M</td>\n",
       "      <td>1961</td>\n",
       "      <td>경기도</td>\n",
       "      <td>안성시</td>\n",
       "      <td>56</td>\n",
       "      <td>2016</td>\n",
       "      <td>09</td>\n",
       "      <td>50</td>\n",
       "      <td>1300</td>\n",
       "    </tr>\n",
       "    <tr>\n",
       "      <th>8</th>\n",
       "      <td>4</td>\n",
       "      <td>5</td>\n",
       "      <td>2016-10-17</td>\n",
       "      <td>p1175481</td>\n",
       "      <td>2</td>\n",
       "      <td>2600</td>\n",
       "      <td>c107853</td>\n",
       "      <td>콩나물</td>\n",
       "      <td>반찬류</td>\n",
       "      <td>나물류</td>\n",
       "      <td>M</td>\n",
       "      <td>1961</td>\n",
       "      <td>경기도</td>\n",
       "      <td>안성시</td>\n",
       "      <td>56</td>\n",
       "      <td>2016</td>\n",
       "      <td>10</td>\n",
       "      <td>50</td>\n",
       "      <td>1300</td>\n",
       "    </tr>\n",
       "    <tr>\n",
       "      <th>9</th>\n",
       "      <td>44</td>\n",
       "      <td>2</td>\n",
       "      <td>2016-11-14</td>\n",
       "      <td>p1175481</td>\n",
       "      <td>2</td>\n",
       "      <td>2600</td>\n",
       "      <td>c107853</td>\n",
       "      <td>콩나물</td>\n",
       "      <td>반찬류</td>\n",
       "      <td>나물류</td>\n",
       "      <td>M</td>\n",
       "      <td>1961</td>\n",
       "      <td>경기도</td>\n",
       "      <td>안성시</td>\n",
       "      <td>56</td>\n",
       "      <td>2016</td>\n",
       "      <td>11</td>\n",
       "      <td>50</td>\n",
       "      <td>1300</td>\n",
       "    </tr>\n",
       "  </tbody>\n",
       "</table>\n",
       "</div>"
      ],
      "text/plain": [
       "   OrderID  Seq   OrderDate ProductID  Qty   Amt CustomerID ProductName  \\\n",
       "0        1    1  2016-01-02  p1030071    2  7900    c107853         토마토   \n",
       "1       55    1  2016-07-26  p1012581    1  1050    c107853          깻잎   \n",
       "2       44    8  2016-09-19  p1012581    1  1050    c107853          깻잎   \n",
       "3       36    2  2016-01-29  p1175481    1  1200    c107853         콩나물   \n",
       "4       54    1  2016-03-15  p1175481    1  1300    c107853         콩나물   \n",
       "5       50    1  2016-09-13  p1175481    1  1150    c107853         콩나물   \n",
       "6       44    6  2016-09-19  p1175481    1  1300    c107853         콩나물   \n",
       "7       35    4  2016-09-29  p1175481    2  2600    c107853         콩나물   \n",
       "8        4    5  2016-10-17  p1175481    2  2600    c107853         콩나물   \n",
       "9       44    2  2016-11-14  p1175481    2  2600    c107853         콩나물   \n",
       "\n",
       "  Category SubCategory Gender  BirthYear Addr1 Addr2  Age OrderYear  \\\n",
       "0       과일          과채      M       1961   경기도   안성시   56      2016   \n",
       "1       채소         잎채소      M       1961   경기도   안성시   56      2016   \n",
       "2       채소         잎채소      M       1961   경기도   안성시   56      2016   \n",
       "3      반찬류         나물류      M       1961   경기도   안성시   56      2016   \n",
       "4      반찬류         나물류      M       1961   경기도   안성시   56      2016   \n",
       "5      반찬류         나물류      M       1961   경기도   안성시   56      2016   \n",
       "6      반찬류         나물류      M       1961   경기도   안성시   56      2016   \n",
       "7      반찬류         나물류      M       1961   경기도   안성시   56      2016   \n",
       "8      반찬류         나물류      M       1961   경기도   안성시   56      2016   \n",
       "9      반찬류         나물류      M       1961   경기도   안성시   56      2016   \n",
       "\n",
       "  OrderMonth  Agrp  Price  \n",
       "0         01    50   3950  \n",
       "1         07    50   1050  \n",
       "2         09    50   1050  \n",
       "3         01    50   1200  \n",
       "4         03    50   1300  \n",
       "5         09    50   1150  \n",
       "6         09    50   1300  \n",
       "7         09    50   1300  \n",
       "8         10    50   1300  \n",
       "9         11    50   1300  "
      ]
     },
     "execution_count": 81,
     "metadata": {},
     "output_type": "execute_result"
    }
   ],
   "source": [
    "sales.head(10)"
   ]
  },
  {
   "cell_type": "markdown",
   "metadata": {
    "id": "Ll_SMqdOgBM5"
   },
   "source": [
    "**3) 열 추가**\n",
    "\n",
    "- 분석을 위해 필요한 열을 추가합니다.\n",
    "- 예를 들어 다음과 같은 열들이 필요하다고 판단할 수 있습니다.\n",
    "    - OrderYear: 주문연도, 주문연도별 분석이 용이하게 하기 위함\n",
    "    - OrderMonth: 주문월, 주문년월 분석이 용이하게 하기 위함\n",
    "    - Age: 연령별 분석을 하기 위함(2017 - 출생년도)\n",
    "    - Agrp : 연령대별 분석을 위해 필요\n",
    "    - Price : 1개당 가격으로 가격에 따른 구매 영향을 조사하기 위함"
   ]
  },
  {
   "cell_type": "code",
   "execution_count": 79,
   "metadata": {
    "id": "ICHfbKB2gBM5",
    "scrolled": true
   },
   "outputs": [
    {
     "data": {
      "text/html": [
       "<div>\n",
       "<style scoped>\n",
       "    .dataframe tbody tr th:only-of-type {\n",
       "        vertical-align: middle;\n",
       "    }\n",
       "\n",
       "    .dataframe tbody tr th {\n",
       "        vertical-align: top;\n",
       "    }\n",
       "\n",
       "    .dataframe thead th {\n",
       "        text-align: right;\n",
       "    }\n",
       "</style>\n",
       "<table border=\"1\" class=\"dataframe\">\n",
       "  <thead>\n",
       "    <tr style=\"text-align: right;\">\n",
       "      <th></th>\n",
       "      <th>OrderID</th>\n",
       "      <th>Seq</th>\n",
       "      <th>OrderDate</th>\n",
       "      <th>ProductID</th>\n",
       "      <th>Qty</th>\n",
       "      <th>Amt</th>\n",
       "      <th>CustomerID</th>\n",
       "      <th>ProductName</th>\n",
       "      <th>Category</th>\n",
       "      <th>SubCategory</th>\n",
       "      <th>Gender</th>\n",
       "      <th>BirthYear</th>\n",
       "      <th>Addr1</th>\n",
       "      <th>Addr2</th>\n",
       "      <th>Age</th>\n",
       "      <th>OrderYear</th>\n",
       "      <th>OrderMonth</th>\n",
       "      <th>Agrp</th>\n",
       "      <th>Price</th>\n",
       "    </tr>\n",
       "  </thead>\n",
       "  <tbody>\n",
       "    <tr>\n",
       "      <th>0</th>\n",
       "      <td>1</td>\n",
       "      <td>1</td>\n",
       "      <td>2016-01-02</td>\n",
       "      <td>p1030071</td>\n",
       "      <td>2</td>\n",
       "      <td>7900</td>\n",
       "      <td>c107853</td>\n",
       "      <td>토마토</td>\n",
       "      <td>과일</td>\n",
       "      <td>과채</td>\n",
       "      <td>M</td>\n",
       "      <td>1961</td>\n",
       "      <td>경기도</td>\n",
       "      <td>안성시</td>\n",
       "      <td>56</td>\n",
       "      <td>2016</td>\n",
       "      <td>01</td>\n",
       "      <td>50</td>\n",
       "      <td>3950</td>\n",
       "    </tr>\n",
       "    <tr>\n",
       "      <th>1</th>\n",
       "      <td>55</td>\n",
       "      <td>1</td>\n",
       "      <td>2016-07-26</td>\n",
       "      <td>p1012581</td>\n",
       "      <td>1</td>\n",
       "      <td>1050</td>\n",
       "      <td>c107853</td>\n",
       "      <td>깻잎</td>\n",
       "      <td>채소</td>\n",
       "      <td>잎채소</td>\n",
       "      <td>M</td>\n",
       "      <td>1961</td>\n",
       "      <td>경기도</td>\n",
       "      <td>안성시</td>\n",
       "      <td>56</td>\n",
       "      <td>2016</td>\n",
       "      <td>07</td>\n",
       "      <td>50</td>\n",
       "      <td>1050</td>\n",
       "    </tr>\n",
       "    <tr>\n",
       "      <th>2</th>\n",
       "      <td>44</td>\n",
       "      <td>8</td>\n",
       "      <td>2016-09-19</td>\n",
       "      <td>p1012581</td>\n",
       "      <td>1</td>\n",
       "      <td>1050</td>\n",
       "      <td>c107853</td>\n",
       "      <td>깻잎</td>\n",
       "      <td>채소</td>\n",
       "      <td>잎채소</td>\n",
       "      <td>M</td>\n",
       "      <td>1961</td>\n",
       "      <td>경기도</td>\n",
       "      <td>안성시</td>\n",
       "      <td>56</td>\n",
       "      <td>2016</td>\n",
       "      <td>09</td>\n",
       "      <td>50</td>\n",
       "      <td>1050</td>\n",
       "    </tr>\n",
       "    <tr>\n",
       "      <th>3</th>\n",
       "      <td>36</td>\n",
       "      <td>2</td>\n",
       "      <td>2016-01-29</td>\n",
       "      <td>p1175481</td>\n",
       "      <td>1</td>\n",
       "      <td>1200</td>\n",
       "      <td>c107853</td>\n",
       "      <td>콩나물</td>\n",
       "      <td>반찬류</td>\n",
       "      <td>나물류</td>\n",
       "      <td>M</td>\n",
       "      <td>1961</td>\n",
       "      <td>경기도</td>\n",
       "      <td>안성시</td>\n",
       "      <td>56</td>\n",
       "      <td>2016</td>\n",
       "      <td>01</td>\n",
       "      <td>50</td>\n",
       "      <td>1200</td>\n",
       "    </tr>\n",
       "    <tr>\n",
       "      <th>4</th>\n",
       "      <td>54</td>\n",
       "      <td>1</td>\n",
       "      <td>2016-03-15</td>\n",
       "      <td>p1175481</td>\n",
       "      <td>1</td>\n",
       "      <td>1300</td>\n",
       "      <td>c107853</td>\n",
       "      <td>콩나물</td>\n",
       "      <td>반찬류</td>\n",
       "      <td>나물류</td>\n",
       "      <td>M</td>\n",
       "      <td>1961</td>\n",
       "      <td>경기도</td>\n",
       "      <td>안성시</td>\n",
       "      <td>56</td>\n",
       "      <td>2016</td>\n",
       "      <td>03</td>\n",
       "      <td>50</td>\n",
       "      <td>1300</td>\n",
       "    </tr>\n",
       "    <tr>\n",
       "      <th>5</th>\n",
       "      <td>50</td>\n",
       "      <td>1</td>\n",
       "      <td>2016-09-13</td>\n",
       "      <td>p1175481</td>\n",
       "      <td>1</td>\n",
       "      <td>1150</td>\n",
       "      <td>c107853</td>\n",
       "      <td>콩나물</td>\n",
       "      <td>반찬류</td>\n",
       "      <td>나물류</td>\n",
       "      <td>M</td>\n",
       "      <td>1961</td>\n",
       "      <td>경기도</td>\n",
       "      <td>안성시</td>\n",
       "      <td>56</td>\n",
       "      <td>2016</td>\n",
       "      <td>09</td>\n",
       "      <td>50</td>\n",
       "      <td>1150</td>\n",
       "    </tr>\n",
       "    <tr>\n",
       "      <th>6</th>\n",
       "      <td>44</td>\n",
       "      <td>6</td>\n",
       "      <td>2016-09-19</td>\n",
       "      <td>p1175481</td>\n",
       "      <td>1</td>\n",
       "      <td>1300</td>\n",
       "      <td>c107853</td>\n",
       "      <td>콩나물</td>\n",
       "      <td>반찬류</td>\n",
       "      <td>나물류</td>\n",
       "      <td>M</td>\n",
       "      <td>1961</td>\n",
       "      <td>경기도</td>\n",
       "      <td>안성시</td>\n",
       "      <td>56</td>\n",
       "      <td>2016</td>\n",
       "      <td>09</td>\n",
       "      <td>50</td>\n",
       "      <td>1300</td>\n",
       "    </tr>\n",
       "    <tr>\n",
       "      <th>7</th>\n",
       "      <td>35</td>\n",
       "      <td>4</td>\n",
       "      <td>2016-09-29</td>\n",
       "      <td>p1175481</td>\n",
       "      <td>2</td>\n",
       "      <td>2600</td>\n",
       "      <td>c107853</td>\n",
       "      <td>콩나물</td>\n",
       "      <td>반찬류</td>\n",
       "      <td>나물류</td>\n",
       "      <td>M</td>\n",
       "      <td>1961</td>\n",
       "      <td>경기도</td>\n",
       "      <td>안성시</td>\n",
       "      <td>56</td>\n",
       "      <td>2016</td>\n",
       "      <td>09</td>\n",
       "      <td>50</td>\n",
       "      <td>1300</td>\n",
       "    </tr>\n",
       "    <tr>\n",
       "      <th>8</th>\n",
       "      <td>4</td>\n",
       "      <td>5</td>\n",
       "      <td>2016-10-17</td>\n",
       "      <td>p1175481</td>\n",
       "      <td>2</td>\n",
       "      <td>2600</td>\n",
       "      <td>c107853</td>\n",
       "      <td>콩나물</td>\n",
       "      <td>반찬류</td>\n",
       "      <td>나물류</td>\n",
       "      <td>M</td>\n",
       "      <td>1961</td>\n",
       "      <td>경기도</td>\n",
       "      <td>안성시</td>\n",
       "      <td>56</td>\n",
       "      <td>2016</td>\n",
       "      <td>10</td>\n",
       "      <td>50</td>\n",
       "      <td>1300</td>\n",
       "    </tr>\n",
       "    <tr>\n",
       "      <th>9</th>\n",
       "      <td>44</td>\n",
       "      <td>2</td>\n",
       "      <td>2016-11-14</td>\n",
       "      <td>p1175481</td>\n",
       "      <td>2</td>\n",
       "      <td>2600</td>\n",
       "      <td>c107853</td>\n",
       "      <td>콩나물</td>\n",
       "      <td>반찬류</td>\n",
       "      <td>나물류</td>\n",
       "      <td>M</td>\n",
       "      <td>1961</td>\n",
       "      <td>경기도</td>\n",
       "      <td>안성시</td>\n",
       "      <td>56</td>\n",
       "      <td>2016</td>\n",
       "      <td>11</td>\n",
       "      <td>50</td>\n",
       "      <td>1300</td>\n",
       "    </tr>\n",
       "  </tbody>\n",
       "</table>\n",
       "</div>"
      ],
      "text/plain": [
       "   OrderID  Seq   OrderDate ProductID  Qty   Amt CustomerID ProductName  \\\n",
       "0        1    1  2016-01-02  p1030071    2  7900    c107853         토마토   \n",
       "1       55    1  2016-07-26  p1012581    1  1050    c107853          깻잎   \n",
       "2       44    8  2016-09-19  p1012581    1  1050    c107853          깻잎   \n",
       "3       36    2  2016-01-29  p1175481    1  1200    c107853         콩나물   \n",
       "4       54    1  2016-03-15  p1175481    1  1300    c107853         콩나물   \n",
       "5       50    1  2016-09-13  p1175481    1  1150    c107853         콩나물   \n",
       "6       44    6  2016-09-19  p1175481    1  1300    c107853         콩나물   \n",
       "7       35    4  2016-09-29  p1175481    2  2600    c107853         콩나물   \n",
       "8        4    5  2016-10-17  p1175481    2  2600    c107853         콩나물   \n",
       "9       44    2  2016-11-14  p1175481    2  2600    c107853         콩나물   \n",
       "\n",
       "  Category SubCategory Gender  BirthYear Addr1 Addr2  Age OrderYear  \\\n",
       "0       과일          과채      M       1961   경기도   안성시   56      2016   \n",
       "1       채소         잎채소      M       1961   경기도   안성시   56      2016   \n",
       "2       채소         잎채소      M       1961   경기도   안성시   56      2016   \n",
       "3      반찬류         나물류      M       1961   경기도   안성시   56      2016   \n",
       "4      반찬류         나물류      M       1961   경기도   안성시   56      2016   \n",
       "5      반찬류         나물류      M       1961   경기도   안성시   56      2016   \n",
       "6      반찬류         나물류      M       1961   경기도   안성시   56      2016   \n",
       "7      반찬류         나물류      M       1961   경기도   안성시   56      2016   \n",
       "8      반찬류         나물류      M       1961   경기도   안성시   56      2016   \n",
       "9      반찬류         나물류      M       1961   경기도   안성시   56      2016   \n",
       "\n",
       "  OrderMonth  Agrp  Price  \n",
       "0         01    50   3950  \n",
       "1         07    50   1050  \n",
       "2         09    50   1050  \n",
       "3         01    50   1200  \n",
       "4         03    50   1300  \n",
       "5         09    50   1150  \n",
       "6         09    50   1300  \n",
       "7         09    50   1300  \n",
       "8         10    50   1300  \n",
       "9         11    50   1300  "
      ]
     },
     "execution_count": 79,
     "metadata": {},
     "output_type": "execute_result"
    }
   ],
   "source": [
    "sales['Age'] = 2017-sales['BirthYear']\n",
    "sales['OrderYear'] = sales['OrderDate'].str.split('-').str[0]\n",
    "sales['OrderMonth'] = sales['OrderDate'].str.split('-').str[1]\n",
    "sales['Agrp'] = sales['Age']//10*10\n",
    "sales['Price'] = (sales['Amt']/sales['Qty']).astype(int)\n",
    "sales.head(10)"
   ]
  },
  {
   "cell_type": "markdown",
   "metadata": {
    "id": "DBX8rt-PgBM5"
   },
   "source": [
    "**4) 불필요한 열 제거**\n",
    "\n",
    "- 분석에 필요가 없다고 생각되는 열은 제거합니다.\n",
    "- 새로운 열을 추가하면 기존 열이 필요하지 않을 수 있습니다.\n",
    "- 예를 들어 다음 열들이 필요하지 않다고 판단할 수 있습니다.\n",
    "    - OrderDate: 새로 추가한 OrderYear, OrderMonth 열 사용\n",
    "    - ProductID: ProductName 열 사용\n",
    "    - SubCategory: 분석 대상에서 제외\n",
    "    - BirthYear : Agrp 열로 대체"
   ]
  },
  {
   "cell_type": "code",
   "execution_count": 125,
   "metadata": {
    "id": "OiIofiMIgBM5"
   },
   "outputs": [],
   "source": [
    "xcol2 = ['OrderDate','ProductID','SubCategory','BirthYear']\n",
    "sales.drop(xcol2, axis=1, inplace=True)\n"
   ]
  },
  {
   "cell_type": "markdown",
   "metadata": {
    "id": "m6GXYXOTgBM6"
   },
   "source": [
    "## 4.데이터 분석\n",
    "\n",
    "- 현재 판매 현황을 분석해 향후 판매 전략 수립에 중요한 정보로 활용할 것입니다.\n",
    "- 데이터를 집계하고 간단히 시각화하여 판매 현황을 분석합니다.\n",
    "- 연속형 값은 선 그래프, 범주형 값은 막대 그래프로 시각화함이 일반적입니다."
   ]
  },
  {
   "cell_type": "markdown",
   "metadata": {
    "id": "xnAS4-iJgBM6"
   },
   "source": [
    "**1) 남녀별 판매 현황**\n",
    "\n",
    "- 남녀별 판매 현황을 막대 그래프로 시각화해 확인합니다."
   ]
  },
  {
   "cell_type": "code",
   "execution_count": 126,
   "metadata": {
    "id": "WEvcSWHSgBM6"
   },
   "outputs": [
    {
     "data": {
      "image/png": "[encoded data removed]",
      "text/plain": [
       "<Figure size 432x288 with 1 Axes>"
      ]
     },
     "metadata": {
      "image/png": {
       "height": 264,
       "width": 389
      },
      "needs_background": "light"
     },
     "output_type": "display_data"
    }
   ],
   "source": [
    "tmp1 = sales.groupby(by='Gender',as_index=False)['Amt'].sum()\n",
    "import matplotlib.pyplot as plt\n",
    "plt.bar(tmp1['Gender'],tmp1['Amt'])\n",
    "plt.ylabel(\"1억원\")\n",
    "plt.title('남녀별 판매 금액 현황')\n",
    "plt.show()"
   ]
  },
  {
   "cell_type": "markdown",
   "metadata": {
    "id": "cN83XzDHgBM7"
   },
   "source": [
    "**2) 지역별 판매 현황**\n",
    "\n",
    "- 지역별 판매 현황을 막대 그래프로 시각화해 확인합니다."
   ]
  },
  {
   "cell_type": "code",
   "execution_count": 127,
   "metadata": {
    "id": "bvPb1xzogBM7",
    "scrolled": true
   },
   "outputs": [
    {
     "data": {
      "image/png": "[encoded data removed]",
      "text/plain": [
       "<Figure size 720x360 with 1 Axes>"
      ]
     },
     "metadata": {
      "image/png": {
       "height": 353,
       "width": 607
      },
      "needs_background": "light"
     },
     "output_type": "display_data"
    }
   ],
   "source": [
    "tmp2 = sales.groupby(by='Addr1',as_index=False)['Amt'].sum()\n",
    "tmp2.sort_values(by='Amt',ascending=False,inplace=True)\n",
    "plt.figure(figsize=(10, 5))\n",
    "plt.bar(tmp2['Addr1'],tmp2['Amt'])\n",
    "plt.xticks(rotation=50)\n",
    "plt.ylabel(\"1억원\")\n",
    "plt.title('지역별 판매 금액 현황')\n",
    "plt.show()\n",
    "\n"
   ]
  },
  {
   "cell_type": "markdown",
   "metadata": {
    "id": "tOUH5zU8zf9k"
   },
   "source": [
    "**3) 나이별 구매력 차이 조사**"
   ]
  },
  {
   "cell_type": "code",
   "execution_count": 128,
   "metadata": {
    "id": "mjefn46bzjWW"
   },
   "outputs": [
    {
     "data": {
      "image/png": "[encoded data removed]",
      "text/plain": [
       "<Figure size 432x288 with 1 Axes>"
      ]
     },
     "metadata": {
      "image/png": {
       "height": 279,
       "width": 383
      },
      "needs_background": "light"
     },
     "output_type": "display_data"
    }
   ],
   "source": [
    "tmp3 = sales.groupby(by='Age',as_index=False)['Amt'].sum()\n",
    "tmp3.sort_values(by='Amt',ascending=False,inplace=True)\n",
    "plt.bar(tmp3['Age'],tmp3['Amt'])\n",
    "plt.xlabel(\"나이\")\n",
    "plt.ylabel(\"1천만원\")\n",
    "plt.title('나이별 구매력 차이')\n",
    "plt.show()"
   ]
  },
  {
   "cell_type": "markdown",
   "metadata": {
    "id": "RXHtLPhzzj-d"
   },
   "source": [
    "**4) 월별 구매력 차이 조사**"
   ]
  },
  {
   "cell_type": "code",
   "execution_count": 150,
   "metadata": {
    "id": "WaqWFfhazj-e"
   },
   "outputs": [
    {
     "data": {
      "image/png": "[encoded data removed]",
      "text/plain": [
       "<Figure size 432x288 with 1 Axes>"
      ]
     },
     "metadata": {
      "image/png": {
       "height": 279,
       "width": 383
      },
      "needs_background": "light"
     },
     "output_type": "display_data"
    }
   ],
   "source": [
    "#그냥 Sales로 groupby할 경우 2017년도 포함되어 123월이 너무 커지게됨.\n",
    "tmp4 = sales[sales['OrderYear']=='2016'].groupby(by=['OrderMonth'],as_index=False)[['Amt']].sum()\n",
    "plt.bar(tmp4['OrderMonth'],tmp4['Amt'])\n",
    "plt.xlabel(\"월\")\n",
    "plt.ylabel(\"1천만원\")\n",
    "plt.title('월별 구매력 차이')\n",
    "plt.show()\n"
   ]
  },
  {
   "cell_type": "markdown",
   "metadata": {
    "id": "whE4SZXmzkQR"
   },
   "source": [
    "**5) 카테고리 별 구매 정도 차이**"
   ]
  },
  {
   "cell_type": "code",
   "execution_count": 154,
   "metadata": {
    "id": "PWk4bHvFzkQU",
    "scrolled": true
   },
   "outputs": [
    {
     "data": {
      "image/png": "[encoded data removed]",
      "text/plain": [
       "<Figure size 432x288 with 1 Axes>"
      ]
     },
     "metadata": {
      "image/png": {
       "height": 264,
       "width": 376
      },
      "needs_background": "light"
     },
     "output_type": "display_data"
    }
   ],
   "source": [
    "tmp5 = sales.groupby(by='Category',as_index=False)['Amt'].sum()\n",
    "plt.bar(tmp5['Category'],tmp5['Amt'])\n",
    "plt.ylabel(\"1천만원\")\n",
    "plt.title('카테고리별 구매 정도')\n",
    "plt.show()"
   ]
  },
  {
   "cell_type": "markdown",
   "metadata": {
    "id": "ajTIZ9gNgBM7"
   },
   "source": [
    "## 5.고객 분류\n",
    "\n",
    "* 고객을 등급을 나눠 판매 현황을 분석하고 이에 따른 판매 전략을 수립하려합니다.\n",
    "- 우선 고객을 일정 기준에 따라 분류하고 등급을 지정해야 합니다.\n",
    "- 다음과 같은 순서로 처리하면 될 것입니다.\n",
    "    - 고객별 주문 수량 합, 판매 금액 합을 갖는 데이터프레임 선언\n",
    "    - 고객 분류 기준과 이 기준에 따른 등급 이름 정의\n",
    "    - 고객 등급을 갖는 새로운 Level 열 추가"
   ]
  },
  {
   "cell_type": "markdown",
   "metadata": {
    "id": "oYwVs7u2gBM7"
   },
   "source": [
    "**1) 고객별 집계**\n",
    "\n",
    "* 고객별 주문 수량 합, 판매 금액 합을 갖는 cst 데이터프레임을 선언합니다.\n",
    "* num = 1을 추가하여 이를 더해 고객당 주문 횟수 또한 확인합니다."
   ]
  },
  {
   "cell_type": "code",
   "execution_count": 157,
   "metadata": {},
   "outputs": [
    {
     "data": {
      "text/html": [
       "<div>\n",
       "<style scoped>\n",
       "    .dataframe tbody tr th:only-of-type {\n",
       "        vertical-align: middle;\n",
       "    }\n",
       "\n",
       "    .dataframe tbody tr th {\n",
       "        vertical-align: top;\n",
       "    }\n",
       "\n",
       "    .dataframe thead th {\n",
       "        text-align: right;\n",
       "    }\n",
       "</style>\n",
       "<table border=\"1\" class=\"dataframe\">\n",
       "  <thead>\n",
       "    <tr style=\"text-align: right;\">\n",
       "      <th></th>\n",
       "      <th>OrderID</th>\n",
       "      <th>Seq</th>\n",
       "      <th>Qty</th>\n",
       "      <th>Amt</th>\n",
       "      <th>CustomerID</th>\n",
       "      <th>ProductName</th>\n",
       "      <th>Category</th>\n",
       "      <th>Gender</th>\n",
       "      <th>Addr1</th>\n",
       "      <th>Addr2</th>\n",
       "      <th>Age</th>\n",
       "      <th>OrderYear</th>\n",
       "      <th>OrderMonth</th>\n",
       "      <th>Agrp</th>\n",
       "      <th>Price</th>\n",
       "      <th>num</th>\n",
       "    </tr>\n",
       "  </thead>\n",
       "  <tbody>\n",
       "    <tr>\n",
       "      <th>0</th>\n",
       "      <td>1</td>\n",
       "      <td>1</td>\n",
       "      <td>2</td>\n",
       "      <td>7900</td>\n",
       "      <td>c107853</td>\n",
       "      <td>토마토</td>\n",
       "      <td>과일</td>\n",
       "      <td>M</td>\n",
       "      <td>경기도</td>\n",
       "      <td>안성시</td>\n",
       "      <td>56</td>\n",
       "      <td>2016</td>\n",
       "      <td>01</td>\n",
       "      <td>50</td>\n",
       "      <td>3950</td>\n",
       "      <td>1</td>\n",
       "    </tr>\n",
       "    <tr>\n",
       "      <th>1</th>\n",
       "      <td>55</td>\n",
       "      <td>1</td>\n",
       "      <td>1</td>\n",
       "      <td>1050</td>\n",
       "      <td>c107853</td>\n",
       "      <td>깻잎</td>\n",
       "      <td>채소</td>\n",
       "      <td>M</td>\n",
       "      <td>경기도</td>\n",
       "      <td>안성시</td>\n",
       "      <td>56</td>\n",
       "      <td>2016</td>\n",
       "      <td>07</td>\n",
       "      <td>50</td>\n",
       "      <td>1050</td>\n",
       "      <td>1</td>\n",
       "    </tr>\n",
       "    <tr>\n",
       "      <th>2</th>\n",
       "      <td>44</td>\n",
       "      <td>8</td>\n",
       "      <td>1</td>\n",
       "      <td>1050</td>\n",
       "      <td>c107853</td>\n",
       "      <td>깻잎</td>\n",
       "      <td>채소</td>\n",
       "      <td>M</td>\n",
       "      <td>경기도</td>\n",
       "      <td>안성시</td>\n",
       "      <td>56</td>\n",
       "      <td>2016</td>\n",
       "      <td>09</td>\n",
       "      <td>50</td>\n",
       "      <td>1050</td>\n",
       "      <td>1</td>\n",
       "    </tr>\n",
       "    <tr>\n",
       "      <th>3</th>\n",
       "      <td>36</td>\n",
       "      <td>2</td>\n",
       "      <td>1</td>\n",
       "      <td>1200</td>\n",
       "      <td>c107853</td>\n",
       "      <td>콩나물</td>\n",
       "      <td>반찬류</td>\n",
       "      <td>M</td>\n",
       "      <td>경기도</td>\n",
       "      <td>안성시</td>\n",
       "      <td>56</td>\n",
       "      <td>2016</td>\n",
       "      <td>01</td>\n",
       "      <td>50</td>\n",
       "      <td>1200</td>\n",
       "      <td>1</td>\n",
       "    </tr>\n",
       "    <tr>\n",
       "      <th>4</th>\n",
       "      <td>54</td>\n",
       "      <td>1</td>\n",
       "      <td>1</td>\n",
       "      <td>1300</td>\n",
       "      <td>c107853</td>\n",
       "      <td>콩나물</td>\n",
       "      <td>반찬류</td>\n",
       "      <td>M</td>\n",
       "      <td>경기도</td>\n",
       "      <td>안성시</td>\n",
       "      <td>56</td>\n",
       "      <td>2016</td>\n",
       "      <td>03</td>\n",
       "      <td>50</td>\n",
       "      <td>1300</td>\n",
       "      <td>1</td>\n",
       "    </tr>\n",
       "  </tbody>\n",
       "</table>\n",
       "</div>"
      ],
      "text/plain": [
       "   OrderID  Seq  Qty   Amt CustomerID ProductName Category Gender Addr1 Addr2  \\\n",
       "0        1    1    2  7900    c107853         토마토       과일      M   경기도   안성시   \n",
       "1       55    1    1  1050    c107853          깻잎       채소      M   경기도   안성시   \n",
       "2       44    8    1  1050    c107853          깻잎       채소      M   경기도   안성시   \n",
       "3       36    2    1  1200    c107853         콩나물      반찬류      M   경기도   안성시   \n",
       "4       54    1    1  1300    c107853         콩나물      반찬류      M   경기도   안성시   \n",
       "\n",
       "   Age OrderYear OrderMonth  Agrp  Price  num  \n",
       "0   56      2016         01    50   3950    1  \n",
       "1   56      2016         07    50   1050    1  \n",
       "2   56      2016         09    50   1050    1  \n",
       "3   56      2016         01    50   1200    1  \n",
       "4   56      2016         03    50   1300    1  "
      ]
     },
     "execution_count": 157,
     "metadata": {},
     "output_type": "execute_result"
    }
   ],
   "source": [
    "sales['num'] = 1\n",
    "sales.head()"
   ]
  },
  {
   "cell_type": "code",
   "execution_count": 234,
   "metadata": {
    "id": "JHF506hggBM8"
   },
   "outputs": [
    {
     "data": {
      "text/html": [
       "<div>\n",
       "<style scoped>\n",
       "    .dataframe tbody tr th:only-of-type {\n",
       "        vertical-align: middle;\n",
       "    }\n",
       "\n",
       "    .dataframe tbody tr th {\n",
       "        vertical-align: top;\n",
       "    }\n",
       "\n",
       "    .dataframe thead th {\n",
       "        text-align: right;\n",
       "    }\n",
       "</style>\n",
       "<table border=\"1\" class=\"dataframe\">\n",
       "  <thead>\n",
       "    <tr style=\"text-align: right;\">\n",
       "      <th></th>\n",
       "      <th>CustomerID</th>\n",
       "      <th>Addr1</th>\n",
       "      <th>Qty</th>\n",
       "      <th>Amt</th>\n",
       "      <th>num</th>\n",
       "    </tr>\n",
       "  </thead>\n",
       "  <tbody>\n",
       "    <tr>\n",
       "      <th>0</th>\n",
       "      <td>c017487</td>\n",
       "      <td>경기도</td>\n",
       "      <td>127</td>\n",
       "      <td>296447</td>\n",
       "      <td>90</td>\n",
       "    </tr>\n",
       "    <tr>\n",
       "      <th>1</th>\n",
       "      <td>c017503</td>\n",
       "      <td>서울특별시</td>\n",
       "      <td>42</td>\n",
       "      <td>160444</td>\n",
       "      <td>37</td>\n",
       "    </tr>\n",
       "    <tr>\n",
       "      <th>2</th>\n",
       "      <td>c017517</td>\n",
       "      <td>경기도</td>\n",
       "      <td>192</td>\n",
       "      <td>317590</td>\n",
       "      <td>124</td>\n",
       "    </tr>\n",
       "    <tr>\n",
       "      <th>3</th>\n",
       "      <td>c017522</td>\n",
       "      <td>강원도</td>\n",
       "      <td>64</td>\n",
       "      <td>219849</td>\n",
       "      <td>61</td>\n",
       "    </tr>\n",
       "    <tr>\n",
       "      <th>4</th>\n",
       "      <td>c017526</td>\n",
       "      <td>경기도</td>\n",
       "      <td>26</td>\n",
       "      <td>48881</td>\n",
       "      <td>21</td>\n",
       "    </tr>\n",
       "  </tbody>\n",
       "</table>\n",
       "</div>"
      ],
      "text/plain": [
       "  CustomerID  Addr1  Qty     Amt  num\n",
       "0    c017487    경기도  127  296447   90\n",
       "1    c017503  서울특별시   42  160444   37\n",
       "2    c017517    경기도  192  317590  124\n",
       "3    c017522    강원도   64  219849   61\n",
       "4    c017526    경기도   26   48881   21"
      ]
     },
     "execution_count": 234,
     "metadata": {},
     "output_type": "execute_result"
    }
   ],
   "source": [
    "cst = sales.groupby(by=['CustomerID',\"Addr1\"],as_index=False)[['Qty','Amt','num']].sum()\n",
    "cst.head()\n",
    "\n"
   ]
  },
  {
   "cell_type": "markdown",
   "metadata": {
    "id": "Se7JGfL4gBM8"
   },
   "source": [
    "**2) 고객 분류 기준 찾기**\n",
    "\n",
    "- 고객 등급 분류 기준을 찾기 위해 관련 데이터를 확인합니다."
   ]
  },
  {
   "cell_type": "code",
   "execution_count": 235,
   "metadata": {
    "id": "OjoihrbtgBM8"
   },
   "outputs": [
    {
     "data": {
      "text/plain": [
       "12    486\n",
       "3     470\n",
       "9     410\n",
       "6     323\n",
       "4     158\n",
       "5      95\n",
       "7      83\n",
       "8      75\n",
       "11     69\n",
       "10     68\n",
       "Name: score, dtype: int64"
      ]
     },
     "execution_count": 235,
     "metadata": {},
     "output_type": "execute_result"
    }
   ],
   "source": [
    "a1 = cst.describe().loc['25%','Amt']\n",
    "a2 = cst.describe().loc['50%','Amt']\n",
    "a3 = cst.describe().loc['75%','Amt']\n",
    "q1 = cst.describe().loc['25%','Qty']\n",
    "q2 = cst.describe().loc['50%','Qty']\n",
    "q3 = cst.describe().loc['75%','Qty']\n",
    "n1 = cst.describe().loc['25%','num']\n",
    "n2 = cst.describe().loc['50%','num']\n",
    "n3 = cst.describe().loc['75%','num']\n",
    "import numpy as np\n",
    "bina = [-np.inf,a1,a2,a3,np.inf]\n",
    "binq = [-np.inf,q1,q2,q3,np.inf]\n",
    "binn = [-np.inf,n1,n2,n3,np.inf]\n",
    "label = [1,2,3,4]\n",
    "cst['Qty_grp'] = pd.cut(cst['Qty'], bins=binq, labels=label) \n",
    "cst['Amt_grp'] = pd.cut(cst['Amt'], bins=bina, labels=label)\n",
    "cst['num_grp'] = pd.cut(cst['num'], bins=binn, labels=label)\n",
    "cst['score'] = cst['Qty_grp'].astype(int)+cst['Amt_grp'].astype(int)+cst['num_grp'].astype(int)\n",
    "cst['score'].value_counts()"
   ]
  },
  {
   "cell_type": "code",
   "execution_count": 237,
   "metadata": {},
   "outputs": [
    {
     "data": {
      "text/html": [
       "<div>\n",
       "<style scoped>\n",
       "    .dataframe tbody tr th:only-of-type {\n",
       "        vertical-align: middle;\n",
       "    }\n",
       "\n",
       "    .dataframe tbody tr th {\n",
       "        vertical-align: top;\n",
       "    }\n",
       "\n",
       "    .dataframe thead th {\n",
       "        text-align: right;\n",
       "    }\n",
       "</style>\n",
       "<table border=\"1\" class=\"dataframe\">\n",
       "  <thead>\n",
       "    <tr style=\"text-align: right;\">\n",
       "      <th></th>\n",
       "      <th>CustomerID</th>\n",
       "      <th>Addr1</th>\n",
       "      <th>Qty</th>\n",
       "      <th>Amt</th>\n",
       "      <th>num</th>\n",
       "      <th>Qty_grp</th>\n",
       "      <th>Amt_grp</th>\n",
       "      <th>num_grp</th>\n",
       "      <th>score</th>\n",
       "    </tr>\n",
       "  </thead>\n",
       "  <tbody>\n",
       "    <tr>\n",
       "      <th>0</th>\n",
       "      <td>c017487</td>\n",
       "      <td>경기도</td>\n",
       "      <td>127</td>\n",
       "      <td>296447</td>\n",
       "      <td>90</td>\n",
       "      <td>4</td>\n",
       "      <td>4</td>\n",
       "      <td>4</td>\n",
       "      <td>12</td>\n",
       "    </tr>\n",
       "    <tr>\n",
       "      <th>1</th>\n",
       "      <td>c017503</td>\n",
       "      <td>서울특별시</td>\n",
       "      <td>42</td>\n",
       "      <td>160444</td>\n",
       "      <td>37</td>\n",
       "      <td>3</td>\n",
       "      <td>4</td>\n",
       "      <td>3</td>\n",
       "      <td>10</td>\n",
       "    </tr>\n",
       "    <tr>\n",
       "      <th>2</th>\n",
       "      <td>c017517</td>\n",
       "      <td>경기도</td>\n",
       "      <td>192</td>\n",
       "      <td>317590</td>\n",
       "      <td>124</td>\n",
       "      <td>4</td>\n",
       "      <td>4</td>\n",
       "      <td>4</td>\n",
       "      <td>12</td>\n",
       "    </tr>\n",
       "    <tr>\n",
       "      <th>3</th>\n",
       "      <td>c017522</td>\n",
       "      <td>강원도</td>\n",
       "      <td>64</td>\n",
       "      <td>219849</td>\n",
       "      <td>61</td>\n",
       "      <td>4</td>\n",
       "      <td>4</td>\n",
       "      <td>4</td>\n",
       "      <td>12</td>\n",
       "    </tr>\n",
       "    <tr>\n",
       "      <th>4</th>\n",
       "      <td>c017526</td>\n",
       "      <td>경기도</td>\n",
       "      <td>26</td>\n",
       "      <td>48881</td>\n",
       "      <td>21</td>\n",
       "      <td>3</td>\n",
       "      <td>3</td>\n",
       "      <td>3</td>\n",
       "      <td>9</td>\n",
       "    </tr>\n",
       "    <tr>\n",
       "      <th>...</th>\n",
       "      <td>...</td>\n",
       "      <td>...</td>\n",
       "      <td>...</td>\n",
       "      <td>...</td>\n",
       "      <td>...</td>\n",
       "      <td>...</td>\n",
       "      <td>...</td>\n",
       "      <td>...</td>\n",
       "      <td>...</td>\n",
       "    </tr>\n",
       "    <tr>\n",
       "      <th>2232</th>\n",
       "      <td>c400937</td>\n",
       "      <td>인천광역시</td>\n",
       "      <td>1</td>\n",
       "      <td>1650</td>\n",
       "      <td>1</td>\n",
       "      <td>1</td>\n",
       "      <td>1</td>\n",
       "      <td>1</td>\n",
       "      <td>3</td>\n",
       "    </tr>\n",
       "    <tr>\n",
       "      <th>2233</th>\n",
       "      <td>c401555</td>\n",
       "      <td>경기도</td>\n",
       "      <td>3</td>\n",
       "      <td>11940</td>\n",
       "      <td>3</td>\n",
       "      <td>1</td>\n",
       "      <td>2</td>\n",
       "      <td>1</td>\n",
       "      <td>4</td>\n",
       "    </tr>\n",
       "    <tr>\n",
       "      <th>2234</th>\n",
       "      <td>c401584</td>\n",
       "      <td>경기도</td>\n",
       "      <td>2</td>\n",
       "      <td>6509</td>\n",
       "      <td>2</td>\n",
       "      <td>1</td>\n",
       "      <td>1</td>\n",
       "      <td>1</td>\n",
       "      <td>3</td>\n",
       "    </tr>\n",
       "    <tr>\n",
       "      <th>2235</th>\n",
       "      <td>c402010</td>\n",
       "      <td>경기도</td>\n",
       "      <td>5</td>\n",
       "      <td>20650</td>\n",
       "      <td>3</td>\n",
       "      <td>2</td>\n",
       "      <td>2</td>\n",
       "      <td>1</td>\n",
       "      <td>5</td>\n",
       "    </tr>\n",
       "    <tr>\n",
       "      <th>2236</th>\n",
       "      <td>c402634</td>\n",
       "      <td>경기도</td>\n",
       "      <td>3</td>\n",
       "      <td>4850</td>\n",
       "      <td>3</td>\n",
       "      <td>1</td>\n",
       "      <td>1</td>\n",
       "      <td>1</td>\n",
       "      <td>3</td>\n",
       "    </tr>\n",
       "  </tbody>\n",
       "</table>\n",
       "<p>2237 rows × 9 columns</p>\n",
       "</div>"
      ],
      "text/plain": [
       "     CustomerID  Addr1  Qty     Amt  num Qty_grp Amt_grp num_grp  score\n",
       "0       c017487    경기도  127  296447   90       4       4       4     12\n",
       "1       c017503  서울특별시   42  160444   37       3       4       3     10\n",
       "2       c017517    경기도  192  317590  124       4       4       4     12\n",
       "3       c017522    강원도   64  219849   61       4       4       4     12\n",
       "4       c017526    경기도   26   48881   21       3       3       3      9\n",
       "...         ...    ...  ...     ...  ...     ...     ...     ...    ...\n",
       "2232    c400937  인천광역시    1    1650    1       1       1       1      3\n",
       "2233    c401555    경기도    3   11940    3       1       2       1      4\n",
       "2234    c401584    경기도    2    6509    2       1       1       1      3\n",
       "2235    c402010    경기도    5   20650    3       2       2       1      5\n",
       "2236    c402634    경기도    3    4850    3       1       1       1      3\n",
       "\n",
       "[2237 rows x 9 columns]"
      ]
     },
     "execution_count": 237,
     "metadata": {},
     "output_type": "execute_result"
    }
   ],
   "source": [
    "import numpy as np\n",
    "bina = [-np.inf,a1,a2,a3,np.inf]\n",
    "binq = [-np.inf,q1,q2,q3,np.inf]\n",
    "binn = [-np.inf,n1,n2,n3,np.inf]\n",
    "label = [1,2,3,4]\n",
    "cst['Qty_grp'] = pd.cut(cst['Qty'], bins=binq, labels=label) \n",
    "cst['Amt_grp'] = pd.cut(cst['Amt'], bins=bina, labels=label)\n",
    "cst['num_grp'] = pd.cut(cst['num'], bins=binn, labels=label)\n",
    "cst"
   ]
  },
  {
   "cell_type": "markdown",
   "metadata": {
    "id": "OqXtZMluFrHv"
   },
   "source": [
    "**3) 고객 분류 기준 정리**\n",
    "\n",
    "- 고객 등급 분류 기준과 그 기준에 따른 등급 이름을 정리합니다.\n",
    "- 예를 들면 다음과 같은 기준과 등급 이름을 정의할 수 있을 것입니다.\n",
    "    - ~ 30,000: Family\n",
    "    - 30,000 ~ 100,000: Bronze\n",
    "    - 100,000 ~ 300,000: Silver\n",
    "    - 300,000 ~ : Gold\n",
    "    - 600,000 ~ : Platinum\n",
    "- 분류 기준과 등급 이름\n",
    "    -  고객별 구매 횟수, 방문 횟수, 사용 총액 계산하여 25% 50% 75%로 구분해 score로 제시\n",
    "    -  12점 : S+\n",
    "    -  ~ 10점 : S\n",
    "    -  ~ 6점 : A\n",
    "    -  ~ 3점 : B"
   ]
  },
  {
   "cell_type": "markdown",
   "metadata": {
    "id": "aav9vJSTgBM8"
   },
   "source": [
    "**4) 고객 등급 반영**\n",
    "\n",
    "- 각자 정의한 기준에 따라 고객 등급을 Level 열로 저장합니다."
   ]
  },
  {
   "cell_type": "code",
   "execution_count": 238,
   "metadata": {
    "id": "QgxDdl-EgBM8"
   },
   "outputs": [
    {
     "data": {
      "text/html": [
       "<div>\n",
       "<style scoped>\n",
       "    .dataframe tbody tr th:only-of-type {\n",
       "        vertical-align: middle;\n",
       "    }\n",
       "\n",
       "    .dataframe tbody tr th {\n",
       "        vertical-align: top;\n",
       "    }\n",
       "\n",
       "    .dataframe thead th {\n",
       "        text-align: right;\n",
       "    }\n",
       "</style>\n",
       "<table border=\"1\" class=\"dataframe\">\n",
       "  <thead>\n",
       "    <tr style=\"text-align: right;\">\n",
       "      <th></th>\n",
       "      <th>CustomerID</th>\n",
       "      <th>Addr1</th>\n",
       "      <th>Qty</th>\n",
       "      <th>Amt</th>\n",
       "      <th>num</th>\n",
       "      <th>Qty_grp</th>\n",
       "      <th>Amt_grp</th>\n",
       "      <th>num_grp</th>\n",
       "      <th>score</th>\n",
       "      <th>Level</th>\n",
       "    </tr>\n",
       "  </thead>\n",
       "  <tbody>\n",
       "    <tr>\n",
       "      <th>0</th>\n",
       "      <td>c017487</td>\n",
       "      <td>경기도</td>\n",
       "      <td>127</td>\n",
       "      <td>296447</td>\n",
       "      <td>90</td>\n",
       "      <td>4</td>\n",
       "      <td>4</td>\n",
       "      <td>4</td>\n",
       "      <td>12</td>\n",
       "      <td>S+</td>\n",
       "    </tr>\n",
       "    <tr>\n",
       "      <th>1</th>\n",
       "      <td>c017503</td>\n",
       "      <td>서울특별시</td>\n",
       "      <td>42</td>\n",
       "      <td>160444</td>\n",
       "      <td>37</td>\n",
       "      <td>3</td>\n",
       "      <td>4</td>\n",
       "      <td>3</td>\n",
       "      <td>10</td>\n",
       "      <td>S</td>\n",
       "    </tr>\n",
       "    <tr>\n",
       "      <th>2</th>\n",
       "      <td>c017517</td>\n",
       "      <td>경기도</td>\n",
       "      <td>192</td>\n",
       "      <td>317590</td>\n",
       "      <td>124</td>\n",
       "      <td>4</td>\n",
       "      <td>4</td>\n",
       "      <td>4</td>\n",
       "      <td>12</td>\n",
       "      <td>S+</td>\n",
       "    </tr>\n",
       "    <tr>\n",
       "      <th>3</th>\n",
       "      <td>c017522</td>\n",
       "      <td>강원도</td>\n",
       "      <td>64</td>\n",
       "      <td>219849</td>\n",
       "      <td>61</td>\n",
       "      <td>4</td>\n",
       "      <td>4</td>\n",
       "      <td>4</td>\n",
       "      <td>12</td>\n",
       "      <td>S+</td>\n",
       "    </tr>\n",
       "    <tr>\n",
       "      <th>4</th>\n",
       "      <td>c017526</td>\n",
       "      <td>경기도</td>\n",
       "      <td>26</td>\n",
       "      <td>48881</td>\n",
       "      <td>21</td>\n",
       "      <td>3</td>\n",
       "      <td>3</td>\n",
       "      <td>3</td>\n",
       "      <td>9</td>\n",
       "      <td>A</td>\n",
       "    </tr>\n",
       "    <tr>\n",
       "      <th>...</th>\n",
       "      <td>...</td>\n",
       "      <td>...</td>\n",
       "      <td>...</td>\n",
       "      <td>...</td>\n",
       "      <td>...</td>\n",
       "      <td>...</td>\n",
       "      <td>...</td>\n",
       "      <td>...</td>\n",
       "      <td>...</td>\n",
       "      <td>...</td>\n",
       "    </tr>\n",
       "    <tr>\n",
       "      <th>2232</th>\n",
       "      <td>c400937</td>\n",
       "      <td>인천광역시</td>\n",
       "      <td>1</td>\n",
       "      <td>1650</td>\n",
       "      <td>1</td>\n",
       "      <td>1</td>\n",
       "      <td>1</td>\n",
       "      <td>1</td>\n",
       "      <td>3</td>\n",
       "      <td>B</td>\n",
       "    </tr>\n",
       "    <tr>\n",
       "      <th>2233</th>\n",
       "      <td>c401555</td>\n",
       "      <td>경기도</td>\n",
       "      <td>3</td>\n",
       "      <td>11940</td>\n",
       "      <td>3</td>\n",
       "      <td>1</td>\n",
       "      <td>2</td>\n",
       "      <td>1</td>\n",
       "      <td>4</td>\n",
       "      <td>B</td>\n",
       "    </tr>\n",
       "    <tr>\n",
       "      <th>2234</th>\n",
       "      <td>c401584</td>\n",
       "      <td>경기도</td>\n",
       "      <td>2</td>\n",
       "      <td>6509</td>\n",
       "      <td>2</td>\n",
       "      <td>1</td>\n",
       "      <td>1</td>\n",
       "      <td>1</td>\n",
       "      <td>3</td>\n",
       "      <td>B</td>\n",
       "    </tr>\n",
       "    <tr>\n",
       "      <th>2235</th>\n",
       "      <td>c402010</td>\n",
       "      <td>경기도</td>\n",
       "      <td>5</td>\n",
       "      <td>20650</td>\n",
       "      <td>3</td>\n",
       "      <td>2</td>\n",
       "      <td>2</td>\n",
       "      <td>1</td>\n",
       "      <td>5</td>\n",
       "      <td>B</td>\n",
       "    </tr>\n",
       "    <tr>\n",
       "      <th>2236</th>\n",
       "      <td>c402634</td>\n",
       "      <td>경기도</td>\n",
       "      <td>3</td>\n",
       "      <td>4850</td>\n",
       "      <td>3</td>\n",
       "      <td>1</td>\n",
       "      <td>1</td>\n",
       "      <td>1</td>\n",
       "      <td>3</td>\n",
       "      <td>B</td>\n",
       "    </tr>\n",
       "  </tbody>\n",
       "</table>\n",
       "<p>2237 rows × 10 columns</p>\n",
       "</div>"
      ],
      "text/plain": [
       "     CustomerID  Addr1  Qty     Amt  num Qty_grp Amt_grp num_grp  score Level\n",
       "0       c017487    경기도  127  296447   90       4       4       4     12    S+\n",
       "1       c017503  서울특별시   42  160444   37       3       4       3     10     S\n",
       "2       c017517    경기도  192  317590  124       4       4       4     12    S+\n",
       "3       c017522    강원도   64  219849   61       4       4       4     12    S+\n",
       "4       c017526    경기도   26   48881   21       3       3       3      9     A\n",
       "...         ...    ...  ...     ...  ...     ...     ...     ...    ...   ...\n",
       "2232    c400937  인천광역시    1    1650    1       1       1       1      3     B\n",
       "2233    c401555    경기도    3   11940    3       1       2       1      4     B\n",
       "2234    c401584    경기도    2    6509    2       1       1       1      3     B\n",
       "2235    c402010    경기도    5   20650    3       2       2       1      5     B\n",
       "2236    c402634    경기도    3    4850    3       1       1       1      3     B\n",
       "\n",
       "[2237 rows x 10 columns]"
      ]
     },
     "execution_count": 238,
     "metadata": {},
     "output_type": "execute_result"
    }
   ],
   "source": [
    "cst.loc[cst['score'] == 12, 'Level'] = 'S+'\n",
    "cst.loc[(cst['score'] < 12) & (cst['score'] >= 10), 'Level'] = 'S'\n",
    "cst.loc[(cst['score'] < 10) & (cst['score'] >= 6), 'Level'] = 'A'\n",
    "cst.loc[(cst['score'] < 6) & (cst['score'] >= 3), 'Level'] = 'B'\n",
    "cst"
   ]
  },
  {
   "cell_type": "markdown",
   "metadata": {
    "id": "krCEvndzGUiq"
   },
   "source": [
    "- 등급별 고객 수를 확인해 등급이 적절히 나뉘었는지 검증합니다.\n",
    "- 검증 결과가 적절하지 않다면 위 기준을 변경해 등급을 다시 나눕니다."
   ]
  },
  {
   "cell_type": "code",
   "execution_count": 239,
   "metadata": {
    "id": "6G2TSGW1gBM8"
   },
   "outputs": [],
   "source": [
    "cst['Level'].value_counts()\n",
    "l = [891,723,486,137]\n"
   ]
  },
  {
   "cell_type": "markdown",
   "metadata": {
    "id": "xRweF7aygBM9"
   },
   "source": [
    "## 6.등급별 고객 분석\n",
    "\n",
    "- 고객 등급을 기준으로 다양한 분석을 진행합니다.\n",
    "- 등급 별 분석은 판매 전략을 새롭게 수립하는 데 중요한 자료가 될 것입니다.\n",
    "- 분석 과정에서 판매 전략에 대한 부분을 고민해 보시기 바랍니다."
   ]
  },
  {
   "cell_type": "markdown",
   "metadata": {
    "id": "FhuIC1EigBM9"
   },
   "source": [
    "**1) 등급별 판매 수량 / 1인당 등급별 판매 수량**\n",
    "\n",
    "- 고객 등급별 판매 수량을 막대 그래프로 시각화해 확인합니다."
   ]
  },
  {
   "cell_type": "code",
   "execution_count": 240,
   "metadata": {
    "id": "fQMK4rnLgBM9"
   },
   "outputs": [
    {
     "data": {
      "image/png": "[encoded data removed]",
      "text/plain": [
       "<Figure size 432x288 with 1 Axes>"
      ]
     },
     "metadata": {
      "image/png": {
       "height": 264,
       "width": 398
      },
      "needs_background": "light"
     },
     "output_type": "display_data"
    }
   ],
   "source": [
    "tmp1 = cst.groupby(by='Level',as_index=False)['Qty'].sum()\n",
    "plt.bar(tmp1['Level'],tmp1['Qty'])\n",
    "plt.ylabel(\"횟수\")\n",
    "plt.title('등급별 구매 수량')\n",
    "plt.show()"
   ]
  },
  {
   "cell_type": "code",
   "execution_count": 241,
   "metadata": {},
   "outputs": [
    {
     "data": {
      "image/png": "[encoded data removed]",
      "text/plain": [
       "<Figure size 432x288 with 1 Axes>"
      ]
     },
     "metadata": {
      "image/png": {
       "height": 264,
       "width": 387
      },
      "needs_background": "light"
     },
     "output_type": "display_data"
    }
   ],
   "source": [
    "plt.bar(tmp1['Level'],tmp1['Qty']/l)\n",
    "plt.ylabel(\"횟수\")\n",
    "plt.title('등급별 1인 구매 수량')\n",
    "plt.show()"
   ]
  },
  {
   "cell_type": "markdown",
   "metadata": {
    "id": "hOZBoX2KgBM9"
   },
   "source": [
    "**2) 등급별 판매 금액**\n",
    "\n",
    "- 고객 등급별 판매 금액을 막대 그래프로 시각화해 확인합니다. "
   ]
  },
  {
   "cell_type": "code",
   "execution_count": 242,
   "metadata": {
    "id": "pSovttlfgBM-",
    "scrolled": false
   },
   "outputs": [
    {
     "data": {
      "image/png": "[encoded data removed]",
      "text/plain": [
       "<Figure size 432x288 with 1 Axes>"
      ]
     },
     "metadata": {
      "image/png": {
       "height": 264,
       "width": 383
      },
      "needs_background": "light"
     },
     "output_type": "display_data"
    }
   ],
   "source": [
    "tmp2 = cst.groupby(by='Level',as_index=False)['Amt'].sum()\n",
    "plt.bar(tmp2['Level'],tmp2['Amt'])\n",
    "plt.ylabel(\"1억원\")\n",
    "plt.title('등급별 구매 금액')\n",
    "plt.show()\n",
    "\n"
   ]
  },
  {
   "cell_type": "code",
   "execution_count": 243,
   "metadata": {},
   "outputs": [
    {
     "data": {
      "image/png": "[encoded data removed]",
      "text/plain": [
       "<Figure size 432x288 with 1 Axes>"
      ]
     },
     "metadata": {
      "image/png": {
       "height": 264,
       "width": 383
      },
      "needs_background": "light"
     },
     "output_type": "display_data"
    }
   ],
   "source": [
    "plt.bar(tmp2['Level'],tmp2['Amt']/l)\n",
    "plt.ylabel(\"1백만원\")\n",
    "plt.title('등급별 1인 구매 금액')\n",
    "plt.show()"
   ]
  },
  {
   "cell_type": "markdown",
   "metadata": {
    "id": "roH6tulQz6ib"
   },
   "source": [
    "**3) 등급 별 방문 횟수 조사**"
   ]
  },
  {
   "cell_type": "code",
   "execution_count": 244,
   "metadata": {
    "id": "8ZBjHX04z6ie"
   },
   "outputs": [
    {
     "data": {
      "image/png": "[encoded data removed]",
      "text/plain": [
       "<Figure size 432x288 with 1 Axes>"
      ]
     },
     "metadata": {
      "image/png": {
       "height": 264,
       "width": 398
      },
      "needs_background": "light"
     },
     "output_type": "display_data"
    }
   ],
   "source": [
    "tmp3 = cst.groupby(by='Level',as_index=False)['num'].sum()\n",
    "plt.bar(tmp3['Level'],tmp3['num'])\n",
    "plt.ylabel(\"횟수\")\n",
    "plt.title('등급별 방문 횟수')\n",
    "plt.show()\n",
    " \n",
    " "
   ]
  },
  {
   "cell_type": "code",
   "execution_count": 245,
   "metadata": {},
   "outputs": [
    {
     "data": {
      "image/png": "[encoded data removed]",
      "text/plain": [
       "<Figure size 432x288 with 1 Axes>"
      ]
     },
     "metadata": {
      "image/png": {
       "height": 264,
       "width": 387
      },
      "needs_background": "light"
     },
     "output_type": "display_data"
    }
   ],
   "source": [
    "plt.bar(tmp3['Level'],tmp3['num']/l)\n",
    "plt.ylabel(\"횟수\")\n",
    "plt.title('등급별 1인 방문 횟수')\n",
    "plt.show()"
   ]
  },
  {
   "cell_type": "markdown",
   "metadata": {
    "id": "Kzbj_osuz9uj"
   },
   "source": [
    "**4) 등급의 지역별 분포도**"
   ]
  },
  {
   "cell_type": "code",
   "execution_count": 254,
   "metadata": {
    "id": "UrsREvDFz9uk"
   },
   "outputs": [
    {
     "data": {
      "image/png": "[encoded data removed]",
      "text/plain": [
       "<Figure size 2160x1080 with 1 Axes>"
      ]
     },
     "metadata": {
      "image/png": {
       "height": 845,
       "width": 829
      }
     },
     "output_type": "display_data"
    }
   ],
   "source": [
    "tmp4 = cst.groupby(by=['Level','Addr1'],as_index=False)['num'].sum()\n",
    "Sp = tmp4[tmp4['Level']=='S+']\n",
    "plt.figure(figsize=(30, 15))\n",
    "plt.title('S+ 지역별')\n",
    "plt.pie(Sp['num'],labels = Sp['Addr1'])\n",
    "plt.show()\n",
    " \n",
    " "
   ]
  },
  {
   "cell_type": "code",
   "execution_count": 256,
   "metadata": {},
   "outputs": [
    {
     "data": {
      "image/png": "[encoded data removed]",
      "text/plain": [
       "<Figure size 2160x1080 with 1 Axes>"
      ]
     },
     "metadata": {
      "image/png": {
       "height": 845,
       "width": 829
      }
     },
     "output_type": "display_data"
    }
   ],
   "source": [
    "Sp = tmp4[tmp4['Level']=='S']\n",
    "plt.figure(figsize=(30, 15))\n",
    "plt.title('S 지역별')\n",
    "plt.pie(Sp['num'],labels = Sp['Addr1'])\n",
    "plt.show()"
   ]
  },
  {
   "cell_type": "code",
   "execution_count": 258,
   "metadata": {},
   "outputs": [
    {
     "data": {
      "image/png": "[encoded data removed]",
      "text/plain": [
       "<Figure size 2160x1080 with 1 Axes>"
      ]
     },
     "metadata": {
      "image/png": {
       "height": 845,
       "width": 829
      }
     },
     "output_type": "display_data"
    }
   ],
   "source": [
    "Sp = tmp4[tmp4['Level']=='A']\n",
    "plt.figure(figsize=(30, 15))\n",
    "plt.title('A 지역별')\n",
    "plt.pie(Sp['num'],labels = Sp['Addr1'])\n",
    "plt.show()"
   ]
  },
  {
   "cell_type": "code",
   "execution_count": 259,
   "metadata": {
    "scrolled": true
   },
   "outputs": [
    {
     "data": {
      "image/png": "[encoded data removed]",
      "text/plain": [
       "<Figure size 2160x1080 with 1 Axes>"
      ]
     },
     "metadata": {
      "image/png": {
       "height": 845,
       "width": 829
      }
     },
     "output_type": "display_data"
    }
   ],
   "source": [
    "Sp = tmp4[tmp4['Level']=='B']\n",
    "plt.figure(figsize=(30, 15))\n",
    "plt.title('B 지역별')\n",
    "plt.pie(Sp['num'],labels = Sp['Addr1'])\n",
    "plt.show()"
   ]
  },
  {
   "cell_type": "markdown",
   "metadata": {
    "id": "yoSBcxGigBM-"
   },
   "source": [
    "## 7.정리\n",
    "\n",
    "- 분석을 통해 확인한 내용을 정리합니다."
   ]
  },
  {
   "cell_type": "markdown",
   "metadata": {
    "id": "dVvspGWngBM-"
   },
   "source": [
    "**1) 의견**\n",
    "\n",
    "\n",
    "\n",
    "\n"
   ]
  },
  {
   "cell_type": "markdown",
   "metadata": {
    "id": "127KsaRJgBM-"
   },
   "source": [
    "- 경기도와 서울 인천이 대부분의 고객을 차지하고 있고 등급별도 비슷하다. 수도권을 중심으로 마케팅하면 유리할 것이다.\n",
    "- 식료품이 가장 큰 비율을 차지한다.\n",
    "- S+와 나머지 등급의 격차가 심하다.\n",
    "- 40대와 여성의 비율이 높다.\n",
    "- "
   ]
  },
  {
   "cell_type": "markdown",
   "metadata": {
    "id": "FYaHYxzZgBM-"
   },
   "source": [
    "**2) 기타**"
   ]
  },
  {
   "cell_type": "markdown",
   "metadata": {
    "id": "wl2r0MxDgBM-"
   },
   "source": [
    "- \n",
    "- \n",
    "- \n",
    "- \n",
    "- "
   ]
  }
 ],
 "metadata": {
  "colab": {
   "collapsed_sections": [],
   "name": "X04 - [레벨업] 소매점 판매 현황.ipynb",
   "provenance": []
  },
  "kernelspec": {
   "display_name": "Python 3",
   "language": "python",
   "name": "python3"
  },
  "language_info": {
   "codemirror_mode": {
    "name": "ipython",
    "version": 3
   },
   "file_extension": ".py",
   "mimetype": "text/x-python",
   "name": "python",
   "nbconvert_exporter": "python",
   "pygments_lexer": "ipython3",
   "version": "3.8.8"
  }
 },
 "nbformat": 4,
 "nbformat_minor": 1
}
